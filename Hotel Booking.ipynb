{
 "cells": [
  {
   "cell_type": "markdown",
   "metadata": {},
   "source": [
    "# Dataset Downloaded from Kaggle : https://www.kaggle.com/jessemostipak/hotel-booking-demand"
   ]
  },
  {
   "cell_type": "markdown",
   "metadata": {},
   "source": [
    "3 Questions that may help the hotel to improve their business by reducing cancellation rate:\n",
    "1. What is the cancellation rate over the years for different hotel categories?\n",
    "2. Are we able to predict booking cancellation?  \n",
    "3. For those booking at risk for cancellation, what can the hotel do to mitigate the risk?"
   ]
  },
  {
   "cell_type": "code",
   "execution_count": 1,
   "metadata": {
    "scrolled": false
   },
   "outputs": [
    {
     "data": {
      "text/html": [
       "<div>\n",
       "<style scoped>\n",
       "    .dataframe tbody tr th:only-of-type {\n",
       "        vertical-align: middle;\n",
       "    }\n",
       "\n",
       "    .dataframe tbody tr th {\n",
       "        vertical-align: top;\n",
       "    }\n",
       "\n",
       "    .dataframe thead th {\n",
       "        text-align: right;\n",
       "    }\n",
       "</style>\n",
       "<table border=\"1\" class=\"dataframe\">\n",
       "  <thead>\n",
       "    <tr style=\"text-align: right;\">\n",
       "      <th></th>\n",
       "      <th>hotel</th>\n",
       "      <th>is_canceled</th>\n",
       "      <th>lead_time</th>\n",
       "      <th>arrival_date_year</th>\n",
       "      <th>arrival_date_month</th>\n",
       "      <th>arrival_date_week_number</th>\n",
       "      <th>arrival_date_day_of_month</th>\n",
       "      <th>stays_in_weekend_nights</th>\n",
       "      <th>stays_in_week_nights</th>\n",
       "      <th>adults</th>\n",
       "      <th>...</th>\n",
       "      <th>deposit_type</th>\n",
       "      <th>agent</th>\n",
       "      <th>company</th>\n",
       "      <th>days_in_waiting_list</th>\n",
       "      <th>customer_type</th>\n",
       "      <th>adr</th>\n",
       "      <th>required_car_parking_spaces</th>\n",
       "      <th>total_of_special_requests</th>\n",
       "      <th>reservation_status</th>\n",
       "      <th>reservation_status_date</th>\n",
       "    </tr>\n",
       "  </thead>\n",
       "  <tbody>\n",
       "    <tr>\n",
       "      <th>0</th>\n",
       "      <td>Resort Hotel</td>\n",
       "      <td>0</td>\n",
       "      <td>342</td>\n",
       "      <td>2015</td>\n",
       "      <td>July</td>\n",
       "      <td>27</td>\n",
       "      <td>1</td>\n",
       "      <td>0</td>\n",
       "      <td>0</td>\n",
       "      <td>2</td>\n",
       "      <td>...</td>\n",
       "      <td>No Deposit</td>\n",
       "      <td>NaN</td>\n",
       "      <td>NaN</td>\n",
       "      <td>0</td>\n",
       "      <td>Transient</td>\n",
       "      <td>0.0</td>\n",
       "      <td>0</td>\n",
       "      <td>0</td>\n",
       "      <td>Check-Out</td>\n",
       "      <td>2015-07-01</td>\n",
       "    </tr>\n",
       "    <tr>\n",
       "      <th>1</th>\n",
       "      <td>Resort Hotel</td>\n",
       "      <td>0</td>\n",
       "      <td>737</td>\n",
       "      <td>2015</td>\n",
       "      <td>July</td>\n",
       "      <td>27</td>\n",
       "      <td>1</td>\n",
       "      <td>0</td>\n",
       "      <td>0</td>\n",
       "      <td>2</td>\n",
       "      <td>...</td>\n",
       "      <td>No Deposit</td>\n",
       "      <td>NaN</td>\n",
       "      <td>NaN</td>\n",
       "      <td>0</td>\n",
       "      <td>Transient</td>\n",
       "      <td>0.0</td>\n",
       "      <td>0</td>\n",
       "      <td>0</td>\n",
       "      <td>Check-Out</td>\n",
       "      <td>2015-07-01</td>\n",
       "    </tr>\n",
       "    <tr>\n",
       "      <th>2</th>\n",
       "      <td>Resort Hotel</td>\n",
       "      <td>0</td>\n",
       "      <td>7</td>\n",
       "      <td>2015</td>\n",
       "      <td>July</td>\n",
       "      <td>27</td>\n",
       "      <td>1</td>\n",
       "      <td>0</td>\n",
       "      <td>1</td>\n",
       "      <td>1</td>\n",
       "      <td>...</td>\n",
       "      <td>No Deposit</td>\n",
       "      <td>NaN</td>\n",
       "      <td>NaN</td>\n",
       "      <td>0</td>\n",
       "      <td>Transient</td>\n",
       "      <td>75.0</td>\n",
       "      <td>0</td>\n",
       "      <td>0</td>\n",
       "      <td>Check-Out</td>\n",
       "      <td>2015-07-02</td>\n",
       "    </tr>\n",
       "    <tr>\n",
       "      <th>3</th>\n",
       "      <td>Resort Hotel</td>\n",
       "      <td>0</td>\n",
       "      <td>13</td>\n",
       "      <td>2015</td>\n",
       "      <td>July</td>\n",
       "      <td>27</td>\n",
       "      <td>1</td>\n",
       "      <td>0</td>\n",
       "      <td>1</td>\n",
       "      <td>1</td>\n",
       "      <td>...</td>\n",
       "      <td>No Deposit</td>\n",
       "      <td>304.0</td>\n",
       "      <td>NaN</td>\n",
       "      <td>0</td>\n",
       "      <td>Transient</td>\n",
       "      <td>75.0</td>\n",
       "      <td>0</td>\n",
       "      <td>0</td>\n",
       "      <td>Check-Out</td>\n",
       "      <td>2015-07-02</td>\n",
       "    </tr>\n",
       "    <tr>\n",
       "      <th>4</th>\n",
       "      <td>Resort Hotel</td>\n",
       "      <td>0</td>\n",
       "      <td>14</td>\n",
       "      <td>2015</td>\n",
       "      <td>July</td>\n",
       "      <td>27</td>\n",
       "      <td>1</td>\n",
       "      <td>0</td>\n",
       "      <td>2</td>\n",
       "      <td>2</td>\n",
       "      <td>...</td>\n",
       "      <td>No Deposit</td>\n",
       "      <td>240.0</td>\n",
       "      <td>NaN</td>\n",
       "      <td>0</td>\n",
       "      <td>Transient</td>\n",
       "      <td>98.0</td>\n",
       "      <td>0</td>\n",
       "      <td>1</td>\n",
       "      <td>Check-Out</td>\n",
       "      <td>2015-07-03</td>\n",
       "    </tr>\n",
       "  </tbody>\n",
       "</table>\n",
       "<p>5 rows × 32 columns</p>\n",
       "</div>"
      ],
      "text/plain": [
       "          hotel  is_canceled  lead_time  arrival_date_year arrival_date_month  \\\n",
       "0  Resort Hotel            0        342               2015               July   \n",
       "1  Resort Hotel            0        737               2015               July   \n",
       "2  Resort Hotel            0          7               2015               July   \n",
       "3  Resort Hotel            0         13               2015               July   \n",
       "4  Resort Hotel            0         14               2015               July   \n",
       "\n",
       "   arrival_date_week_number  arrival_date_day_of_month  \\\n",
       "0                        27                          1   \n",
       "1                        27                          1   \n",
       "2                        27                          1   \n",
       "3                        27                          1   \n",
       "4                        27                          1   \n",
       "\n",
       "   stays_in_weekend_nights  stays_in_week_nights  adults  ...  deposit_type  \\\n",
       "0                        0                     0       2  ...    No Deposit   \n",
       "1                        0                     0       2  ...    No Deposit   \n",
       "2                        0                     1       1  ...    No Deposit   \n",
       "3                        0                     1       1  ...    No Deposit   \n",
       "4                        0                     2       2  ...    No Deposit   \n",
       "\n",
       "   agent company days_in_waiting_list customer_type   adr  \\\n",
       "0    NaN     NaN                    0     Transient   0.0   \n",
       "1    NaN     NaN                    0     Transient   0.0   \n",
       "2    NaN     NaN                    0     Transient  75.0   \n",
       "3  304.0     NaN                    0     Transient  75.0   \n",
       "4  240.0     NaN                    0     Transient  98.0   \n",
       "\n",
       "   required_car_parking_spaces  total_of_special_requests  reservation_status  \\\n",
       "0                            0                          0           Check-Out   \n",
       "1                            0                          0           Check-Out   \n",
       "2                            0                          0           Check-Out   \n",
       "3                            0                          0           Check-Out   \n",
       "4                            0                          1           Check-Out   \n",
       "\n",
       "  reservation_status_date  \n",
       "0              2015-07-01  \n",
       "1              2015-07-01  \n",
       "2              2015-07-02  \n",
       "3              2015-07-02  \n",
       "4              2015-07-03  \n",
       "\n",
       "[5 rows x 32 columns]"
      ]
     },
     "execution_count": 1,
     "metadata": {},
     "output_type": "execute_result"
    }
   ],
   "source": [
    "# import the needed library to load the hotel booking data downloaded from Kaggle.\n",
    "import numpy as np\n",
    "import pandas as pd\n",
    "import matplotlib.pyplot as plt\n",
    "import seaborn as sns\n",
    "%matplotlib inline\n",
    "\n",
    "df = pd.read_csv('./Dataset/hotel_bookings.csv')\n",
    "df.head()"
   ]
  },
  {
   "cell_type": "markdown",
   "metadata": {},
   "source": [
    "# Basic Data Analysis\n",
    "\n",
    "First, let's look at the data set to see any missing value or any further data process required."
   ]
  },
  {
   "cell_type": "code",
   "execution_count": 2,
   "metadata": {},
   "outputs": [
    {
     "data": {
      "text/html": [
       "<div>\n",
       "<style scoped>\n",
       "    .dataframe tbody tr th:only-of-type {\n",
       "        vertical-align: middle;\n",
       "    }\n",
       "\n",
       "    .dataframe tbody tr th {\n",
       "        vertical-align: top;\n",
       "    }\n",
       "\n",
       "    .dataframe thead th {\n",
       "        text-align: right;\n",
       "    }\n",
       "</style>\n",
       "<table border=\"1\" class=\"dataframe\">\n",
       "  <thead>\n",
       "    <tr style=\"text-align: right;\">\n",
       "      <th></th>\n",
       "      <th>is_canceled</th>\n",
       "      <th>lead_time</th>\n",
       "      <th>arrival_date_year</th>\n",
       "      <th>arrival_date_week_number</th>\n",
       "      <th>arrival_date_day_of_month</th>\n",
       "      <th>stays_in_weekend_nights</th>\n",
       "      <th>stays_in_week_nights</th>\n",
       "      <th>adults</th>\n",
       "      <th>children</th>\n",
       "      <th>babies</th>\n",
       "      <th>is_repeated_guest</th>\n",
       "      <th>previous_cancellations</th>\n",
       "      <th>previous_bookings_not_canceled</th>\n",
       "      <th>booking_changes</th>\n",
       "      <th>agent</th>\n",
       "      <th>company</th>\n",
       "      <th>days_in_waiting_list</th>\n",
       "      <th>adr</th>\n",
       "      <th>required_car_parking_spaces</th>\n",
       "      <th>total_of_special_requests</th>\n",
       "    </tr>\n",
       "  </thead>\n",
       "  <tbody>\n",
       "    <tr>\n",
       "      <th>count</th>\n",
       "      <td>119390.000000</td>\n",
       "      <td>119390.000000</td>\n",
       "      <td>119390.000000</td>\n",
       "      <td>119390.000000</td>\n",
       "      <td>119390.000000</td>\n",
       "      <td>119390.000000</td>\n",
       "      <td>119390.000000</td>\n",
       "      <td>119390.000000</td>\n",
       "      <td>119386.000000</td>\n",
       "      <td>119390.000000</td>\n",
       "      <td>119390.000000</td>\n",
       "      <td>119390.000000</td>\n",
       "      <td>119390.000000</td>\n",
       "      <td>119390.000000</td>\n",
       "      <td>103050.000000</td>\n",
       "      <td>6797.000000</td>\n",
       "      <td>119390.000000</td>\n",
       "      <td>119390.000000</td>\n",
       "      <td>119390.000000</td>\n",
       "      <td>119390.000000</td>\n",
       "    </tr>\n",
       "    <tr>\n",
       "      <th>mean</th>\n",
       "      <td>0.370416</td>\n",
       "      <td>104.011416</td>\n",
       "      <td>2016.156554</td>\n",
       "      <td>27.165173</td>\n",
       "      <td>15.798241</td>\n",
       "      <td>0.927599</td>\n",
       "      <td>2.500302</td>\n",
       "      <td>1.856403</td>\n",
       "      <td>0.103890</td>\n",
       "      <td>0.007949</td>\n",
       "      <td>0.031912</td>\n",
       "      <td>0.087118</td>\n",
       "      <td>0.137097</td>\n",
       "      <td>0.221124</td>\n",
       "      <td>86.693382</td>\n",
       "      <td>189.266735</td>\n",
       "      <td>2.321149</td>\n",
       "      <td>101.831122</td>\n",
       "      <td>0.062518</td>\n",
       "      <td>0.571363</td>\n",
       "    </tr>\n",
       "    <tr>\n",
       "      <th>std</th>\n",
       "      <td>0.482918</td>\n",
       "      <td>106.863097</td>\n",
       "      <td>0.707476</td>\n",
       "      <td>13.605138</td>\n",
       "      <td>8.780829</td>\n",
       "      <td>0.998613</td>\n",
       "      <td>1.908286</td>\n",
       "      <td>0.579261</td>\n",
       "      <td>0.398561</td>\n",
       "      <td>0.097436</td>\n",
       "      <td>0.175767</td>\n",
       "      <td>0.844336</td>\n",
       "      <td>1.497437</td>\n",
       "      <td>0.652306</td>\n",
       "      <td>110.774548</td>\n",
       "      <td>131.655015</td>\n",
       "      <td>17.594721</td>\n",
       "      <td>50.535790</td>\n",
       "      <td>0.245291</td>\n",
       "      <td>0.792798</td>\n",
       "    </tr>\n",
       "    <tr>\n",
       "      <th>min</th>\n",
       "      <td>0.000000</td>\n",
       "      <td>0.000000</td>\n",
       "      <td>2015.000000</td>\n",
       "      <td>1.000000</td>\n",
       "      <td>1.000000</td>\n",
       "      <td>0.000000</td>\n",
       "      <td>0.000000</td>\n",
       "      <td>0.000000</td>\n",
       "      <td>0.000000</td>\n",
       "      <td>0.000000</td>\n",
       "      <td>0.000000</td>\n",
       "      <td>0.000000</td>\n",
       "      <td>0.000000</td>\n",
       "      <td>0.000000</td>\n",
       "      <td>1.000000</td>\n",
       "      <td>6.000000</td>\n",
       "      <td>0.000000</td>\n",
       "      <td>-6.380000</td>\n",
       "      <td>0.000000</td>\n",
       "      <td>0.000000</td>\n",
       "    </tr>\n",
       "    <tr>\n",
       "      <th>25%</th>\n",
       "      <td>0.000000</td>\n",
       "      <td>18.000000</td>\n",
       "      <td>2016.000000</td>\n",
       "      <td>16.000000</td>\n",
       "      <td>8.000000</td>\n",
       "      <td>0.000000</td>\n",
       "      <td>1.000000</td>\n",
       "      <td>2.000000</td>\n",
       "      <td>0.000000</td>\n",
       "      <td>0.000000</td>\n",
       "      <td>0.000000</td>\n",
       "      <td>0.000000</td>\n",
       "      <td>0.000000</td>\n",
       "      <td>0.000000</td>\n",
       "      <td>9.000000</td>\n",
       "      <td>62.000000</td>\n",
       "      <td>0.000000</td>\n",
       "      <td>69.290000</td>\n",
       "      <td>0.000000</td>\n",
       "      <td>0.000000</td>\n",
       "    </tr>\n",
       "    <tr>\n",
       "      <th>50%</th>\n",
       "      <td>0.000000</td>\n",
       "      <td>69.000000</td>\n",
       "      <td>2016.000000</td>\n",
       "      <td>28.000000</td>\n",
       "      <td>16.000000</td>\n",
       "      <td>1.000000</td>\n",
       "      <td>2.000000</td>\n",
       "      <td>2.000000</td>\n",
       "      <td>0.000000</td>\n",
       "      <td>0.000000</td>\n",
       "      <td>0.000000</td>\n",
       "      <td>0.000000</td>\n",
       "      <td>0.000000</td>\n",
       "      <td>0.000000</td>\n",
       "      <td>14.000000</td>\n",
       "      <td>179.000000</td>\n",
       "      <td>0.000000</td>\n",
       "      <td>94.575000</td>\n",
       "      <td>0.000000</td>\n",
       "      <td>0.000000</td>\n",
       "    </tr>\n",
       "    <tr>\n",
       "      <th>75%</th>\n",
       "      <td>1.000000</td>\n",
       "      <td>160.000000</td>\n",
       "      <td>2017.000000</td>\n",
       "      <td>38.000000</td>\n",
       "      <td>23.000000</td>\n",
       "      <td>2.000000</td>\n",
       "      <td>3.000000</td>\n",
       "      <td>2.000000</td>\n",
       "      <td>0.000000</td>\n",
       "      <td>0.000000</td>\n",
       "      <td>0.000000</td>\n",
       "      <td>0.000000</td>\n",
       "      <td>0.000000</td>\n",
       "      <td>0.000000</td>\n",
       "      <td>229.000000</td>\n",
       "      <td>270.000000</td>\n",
       "      <td>0.000000</td>\n",
       "      <td>126.000000</td>\n",
       "      <td>0.000000</td>\n",
       "      <td>1.000000</td>\n",
       "    </tr>\n",
       "    <tr>\n",
       "      <th>max</th>\n",
       "      <td>1.000000</td>\n",
       "      <td>737.000000</td>\n",
       "      <td>2017.000000</td>\n",
       "      <td>53.000000</td>\n",
       "      <td>31.000000</td>\n",
       "      <td>19.000000</td>\n",
       "      <td>50.000000</td>\n",
       "      <td>55.000000</td>\n",
       "      <td>10.000000</td>\n",
       "      <td>10.000000</td>\n",
       "      <td>1.000000</td>\n",
       "      <td>26.000000</td>\n",
       "      <td>72.000000</td>\n",
       "      <td>21.000000</td>\n",
       "      <td>535.000000</td>\n",
       "      <td>543.000000</td>\n",
       "      <td>391.000000</td>\n",
       "      <td>5400.000000</td>\n",
       "      <td>8.000000</td>\n",
       "      <td>5.000000</td>\n",
       "    </tr>\n",
       "  </tbody>\n",
       "</table>\n",
       "</div>"
      ],
      "text/plain": [
       "         is_canceled      lead_time  arrival_date_year  \\\n",
       "count  119390.000000  119390.000000      119390.000000   \n",
       "mean        0.370416     104.011416        2016.156554   \n",
       "std         0.482918     106.863097           0.707476   \n",
       "min         0.000000       0.000000        2015.000000   \n",
       "25%         0.000000      18.000000        2016.000000   \n",
       "50%         0.000000      69.000000        2016.000000   \n",
       "75%         1.000000     160.000000        2017.000000   \n",
       "max         1.000000     737.000000        2017.000000   \n",
       "\n",
       "       arrival_date_week_number  arrival_date_day_of_month  \\\n",
       "count             119390.000000              119390.000000   \n",
       "mean                  27.165173                  15.798241   \n",
       "std                   13.605138                   8.780829   \n",
       "min                    1.000000                   1.000000   \n",
       "25%                   16.000000                   8.000000   \n",
       "50%                   28.000000                  16.000000   \n",
       "75%                   38.000000                  23.000000   \n",
       "max                   53.000000                  31.000000   \n",
       "\n",
       "       stays_in_weekend_nights  stays_in_week_nights         adults  \\\n",
       "count            119390.000000         119390.000000  119390.000000   \n",
       "mean                  0.927599              2.500302       1.856403   \n",
       "std                   0.998613              1.908286       0.579261   \n",
       "min                   0.000000              0.000000       0.000000   \n",
       "25%                   0.000000              1.000000       2.000000   \n",
       "50%                   1.000000              2.000000       2.000000   \n",
       "75%                   2.000000              3.000000       2.000000   \n",
       "max                  19.000000             50.000000      55.000000   \n",
       "\n",
       "            children         babies  is_repeated_guest  \\\n",
       "count  119386.000000  119390.000000      119390.000000   \n",
       "mean        0.103890       0.007949           0.031912   \n",
       "std         0.398561       0.097436           0.175767   \n",
       "min         0.000000       0.000000           0.000000   \n",
       "25%         0.000000       0.000000           0.000000   \n",
       "50%         0.000000       0.000000           0.000000   \n",
       "75%         0.000000       0.000000           0.000000   \n",
       "max        10.000000      10.000000           1.000000   \n",
       "\n",
       "       previous_cancellations  previous_bookings_not_canceled  \\\n",
       "count           119390.000000                   119390.000000   \n",
       "mean                 0.087118                        0.137097   \n",
       "std                  0.844336                        1.497437   \n",
       "min                  0.000000                        0.000000   \n",
       "25%                  0.000000                        0.000000   \n",
       "50%                  0.000000                        0.000000   \n",
       "75%                  0.000000                        0.000000   \n",
       "max                 26.000000                       72.000000   \n",
       "\n",
       "       booking_changes          agent      company  days_in_waiting_list  \\\n",
       "count    119390.000000  103050.000000  6797.000000         119390.000000   \n",
       "mean          0.221124      86.693382   189.266735              2.321149   \n",
       "std           0.652306     110.774548   131.655015             17.594721   \n",
       "min           0.000000       1.000000     6.000000              0.000000   \n",
       "25%           0.000000       9.000000    62.000000              0.000000   \n",
       "50%           0.000000      14.000000   179.000000              0.000000   \n",
       "75%           0.000000     229.000000   270.000000              0.000000   \n",
       "max          21.000000     535.000000   543.000000            391.000000   \n",
       "\n",
       "                 adr  required_car_parking_spaces  total_of_special_requests  \n",
       "count  119390.000000                119390.000000              119390.000000  \n",
       "mean      101.831122                     0.062518                   0.571363  \n",
       "std        50.535790                     0.245291                   0.792798  \n",
       "min        -6.380000                     0.000000                   0.000000  \n",
       "25%        69.290000                     0.000000                   0.000000  \n",
       "50%        94.575000                     0.000000                   0.000000  \n",
       "75%       126.000000                     0.000000                   1.000000  \n",
       "max      5400.000000                     8.000000                   5.000000  "
      ]
     },
     "execution_count": 2,
     "metadata": {},
     "output_type": "execute_result"
    }
   ],
   "source": [
    "# looks at the data summary - seems like OK\n",
    "df.describe()"
   ]
  },
  {
   "cell_type": "code",
   "execution_count": 3,
   "metadata": {},
   "outputs": [
    {
     "data": {
      "text/html": [
       "<div>\n",
       "<style scoped>\n",
       "    .dataframe tbody tr th:only-of-type {\n",
       "        vertical-align: middle;\n",
       "    }\n",
       "\n",
       "    .dataframe tbody tr th {\n",
       "        vertical-align: top;\n",
       "    }\n",
       "\n",
       "    .dataframe thead th {\n",
       "        text-align: right;\n",
       "    }\n",
       "</style>\n",
       "<table border=\"1\" class=\"dataframe\">\n",
       "  <thead>\n",
       "    <tr style=\"text-align: right;\">\n",
       "      <th></th>\n",
       "      <th>MissingMean</th>\n",
       "    </tr>\n",
       "  </thead>\n",
       "  <tbody>\n",
       "    <tr>\n",
       "      <th>children</th>\n",
       "      <td>0.000034</td>\n",
       "    </tr>\n",
       "    <tr>\n",
       "      <th>country</th>\n",
       "      <td>0.004087</td>\n",
       "    </tr>\n",
       "    <tr>\n",
       "      <th>agent</th>\n",
       "      <td>0.136862</td>\n",
       "    </tr>\n",
       "    <tr>\n",
       "      <th>company</th>\n",
       "      <td>0.943069</td>\n",
       "    </tr>\n",
       "  </tbody>\n",
       "</table>\n",
       "</div>"
      ],
      "text/plain": [
       "          MissingMean\n",
       "children     0.000034\n",
       "country      0.004087\n",
       "agent        0.136862\n",
       "company      0.943069"
      ]
     },
     "execution_count": 3,
     "metadata": {},
     "output_type": "execute_result"
    }
   ],
   "source": [
    "# now looks at which columns with missing values\n",
    "dfMissingValue = pd.DataFrame(df.isnull().mean(), columns=['MissingMean'])\n",
    "dfMissingValue[dfMissingValue.MissingMean >0]"
   ]
  },
  {
   "cell_type": "code",
   "execution_count": 4,
   "metadata": {},
   "outputs": [
    {
     "data": {
      "text/plain": [
       "(112593, 32)"
      ]
     },
     "execution_count": 4,
     "metadata": {},
     "output_type": "execute_result"
    }
   ],
   "source": [
    "# There are about 112593 records, ~95% of total data set missing Company value.\n",
    "dfNullAgComp = df[(df.company.isnull())]\n",
    "dfNullAgComp.shape"
   ]
  },
  {
   "cell_type": "code",
   "execution_count": 5,
   "metadata": {},
   "outputs": [
    {
     "data": {
      "text/plain": [
       "(16340, 32)"
      ]
     },
     "execution_count": 5,
     "metadata": {},
     "output_type": "execute_result"
    }
   ],
   "source": [
    "# There are about 16340 records, ~14% of total data set missing Agent value.\n",
    "dfNullAgAgent = df[(df.agent.isnull())]\n",
    "dfNullAgAgent.shape"
   ]
  },
  {
   "cell_type": "code",
   "execution_count": 6,
   "metadata": {},
   "outputs": [
    {
     "data": {
      "text/plain": [
       "(9760, 32)"
      ]
     },
     "execution_count": 6,
     "metadata": {},
     "output_type": "execute_result"
    }
   ],
   "source": [
    "# There are about 9760 records, ~8% of total data set missing Company & Agent value.\n",
    "dfNullAgComp = df[(df.company.isnull()) & (df.agent.isnull())]\n",
    "dfNullAgComp.shape"
   ]
  },
  {
   "cell_type": "code",
   "execution_count": 7,
   "metadata": {},
   "outputs": [
    {
     "data": {
      "text/plain": [
       "array([  6.,   8.,   9.,  10.,  11.,  12.,  14.,  16.,  18.,  20.,  22.,\n",
       "        28.,  29.,  31.,  32.,  34.,  35.,  37.,  38.,  39.,  40.,  42.,\n",
       "        43.,  45.,  46.,  47.,  48.,  49.,  51.,  52.,  53.,  54.,  59.,\n",
       "        61.,  62.,  64.,  65.,  67.,  68.,  71.,  72.,  73.,  76.,  77.,\n",
       "        78.,  80.,  81.,  82.,  83.,  84.,  85.,  86.,  88.,  91.,  92.,\n",
       "        93.,  94.,  96.,  99., 100., 101., 102., 103., 104., 105., 106.,\n",
       "       107., 108., 109., 110., 112., 113., 115., 116., 118., 120., 122.,\n",
       "       126., 127., 130., 132., 135., 137., 139., 140., 142., 143., 144.,\n",
       "       146., 148., 149., 150., 153., 154., 158., 159., 160., 163., 165.,\n",
       "       167., 168., 169., 174., 178., 179., 180., 183., 184., 185., 186.,\n",
       "       192., 193., 195., 197., 200., 202., 203., 204., 207., 209., 210.,\n",
       "       212., 213., 215., 216., 217., 218., 219., 220., 221., 222., 223.,\n",
       "       224., 225., 227., 229., 230., 232., 233., 234., 237., 238., 240.,\n",
       "       242., 243., 245., 246., 250., 251., 253., 254., 255., 257., 258.,\n",
       "       259., 260., 263., 264., 268., 269., 270., 271., 272., 273., 274.,\n",
       "       275., 277., 278., 279., 280., 281., 282., 284., 286., 287., 288.,\n",
       "       289., 290., 291., 292., 293., 297., 301., 302., 304., 305., 307.,\n",
       "       308., 309., 311., 312., 313., 314., 316., 317., 318., 319., 320.,\n",
       "       321., 323., 324., 325., 329., 330., 331., 332., 333., 334., 337.,\n",
       "       338., 341., 342., 343., 346., 347., 348., 349., 350., 351., 352.,\n",
       "       353., 355., 356., 357., 358., 360., 361., 362., 364., 365., 366.,\n",
       "       367., 368., 369., 370., 371., 372., 373., 376., 377., 378., 379.,\n",
       "       380., 382., 383., 384., 385., 386., 388., 390., 391., 392., 393.,\n",
       "       394., 395., 396., 397., 398., 399., 400., 401., 402., 403., 405.,\n",
       "       407., 408., 409., 410., 411., 412., 413., 415., 416., 417., 418.,\n",
       "       419., 420., 421., 422., 423., 424., 425., 426., 428., 429., 433.,\n",
       "       435., 436., 437., 439., 442., 443., 444., 445., 446., 447., 448.,\n",
       "       450., 451., 452., 454., 455., 456., 457., 458., 459., 460., 461.,\n",
       "       465., 466., 470., 477., 478., 479., 481., 482., 483., 484., 485.,\n",
       "       486., 487., 489., 490., 491., 492., 494., 496., 497., 498., 499.,\n",
       "       501., 504., 506., 507., 511., 512., 513., 514., 515., 516., 518.,\n",
       "       520., 521., 523., 525., 528., 530., 531., 534., 539., 541., 543.,\n",
       "        nan])"
      ]
     },
     "execution_count": 7,
     "metadata": {},
     "output_type": "execute_result"
    }
   ],
   "source": [
    "#Evaluate what are the unique values for both Company and Agent\n",
    "df.company.sort_values(ascending=True).unique()"
   ]
  },
  {
   "cell_type": "code",
   "execution_count": 8,
   "metadata": {},
   "outputs": [
    {
     "data": {
      "text/plain": [
       "array([  1.,   2.,   3.,   4.,   5.,   6.,   7.,   8.,   9.,  10.,  11.,\n",
       "        12.,  13.,  14.,  15.,  16.,  17.,  19.,  20.,  21.,  22.,  23.,\n",
       "        24.,  25.,  26.,  27.,  28.,  29.,  30.,  31.,  32.,  33.,  34.,\n",
       "        35.,  36.,  37.,  38.,  39.,  40.,  41.,  42.,  44.,  45.,  47.,\n",
       "        50.,  52.,  53.,  54.,  55.,  56.,  57.,  58.,  59.,  60.,  61.,\n",
       "        63.,  64.,  66.,  67.,  68.,  69.,  70.,  71.,  72.,  73.,  74.,\n",
       "        75.,  77.,  78.,  79.,  81.,  82.,  83.,  85.,  86.,  87.,  88.,\n",
       "        89.,  90.,  91.,  92.,  93.,  94.,  95.,  96.,  98.,  99., 103.,\n",
       "       104., 105., 106., 107., 110., 111., 112., 114., 115., 117., 118.,\n",
       "       119., 121., 122., 126., 127., 128., 129., 132., 133., 134., 135.,\n",
       "       138., 139., 141., 142., 143., 144., 146., 147., 148., 149., 150.,\n",
       "       151., 152., 153., 154., 155., 156., 157., 158., 159., 162., 163.,\n",
       "       165., 167., 168., 170., 171., 173., 174., 175., 177., 179., 180.,\n",
       "       181., 182., 183., 184., 185., 187., 191., 192., 193., 195., 196.,\n",
       "       197., 201., 205., 208., 210., 211., 213., 214., 215., 216., 219.,\n",
       "       220., 223., 227., 229., 232., 234., 235., 236., 240., 241., 242.,\n",
       "       243., 244., 245., 247., 248., 249., 250., 251., 252., 253., 254.,\n",
       "       256., 257., 258., 261., 262., 265., 267., 269., 270., 273., 275.,\n",
       "       276., 278., 280., 281., 282., 283., 285., 286., 287., 288., 289.,\n",
       "       290., 291., 294., 295., 296., 298., 299., 300., 301., 302., 303.,\n",
       "       304., 305., 306., 307., 308., 310., 313., 314., 315., 321., 323.,\n",
       "       324., 325., 326., 327., 328., 330., 331., 332., 333., 334., 335.,\n",
       "       336., 337., 339., 341., 344., 346., 348., 350., 352., 354., 355.,\n",
       "       358., 359., 360., 363., 364., 367., 368., 370., 371., 375., 378.,\n",
       "       384., 385., 387., 388., 390., 391., 393., 394., 397., 403., 404.,\n",
       "       405., 406., 408., 410., 411., 414., 416., 418., 420., 423., 425.,\n",
       "       426., 427., 429., 430., 431., 432., 433., 434., 436., 438., 440.,\n",
       "       441., 444., 446., 449., 450., 451., 453., 454., 455., 459., 461.,\n",
       "       464., 467., 468., 469., 472., 474., 475., 476., 479., 480., 481.,\n",
       "       483., 484., 492., 493., 495., 497., 502., 508., 509., 510., 526.,\n",
       "       527., 531., 535.,  nan])"
      ]
     },
     "execution_count": 8,
     "metadata": {},
     "output_type": "execute_result"
    }
   ],
   "source": [
    "df.agent.sort_values(ascending=True).unique()"
   ]
  },
  {
   "cell_type": "code",
   "execution_count": 9,
   "metadata": {
    "scrolled": true
   },
   "outputs": [
    {
     "data": {
      "text/html": [
       "<div>\n",
       "<style scoped>\n",
       "    .dataframe tbody tr th:only-of-type {\n",
       "        vertical-align: middle;\n",
       "    }\n",
       "\n",
       "    .dataframe tbody tr th {\n",
       "        vertical-align: top;\n",
       "    }\n",
       "\n",
       "    .dataframe thead th {\n",
       "        text-align: right;\n",
       "    }\n",
       "</style>\n",
       "<table border=\"1\" class=\"dataframe\">\n",
       "  <thead>\n",
       "    <tr style=\"text-align: right;\">\n",
       "      <th></th>\n",
       "      <th>hotel</th>\n",
       "      <th>is_canceled</th>\n",
       "      <th>lead_time</th>\n",
       "      <th>arrival_date_year</th>\n",
       "      <th>arrival_date_month</th>\n",
       "      <th>arrival_date_week_number</th>\n",
       "      <th>arrival_date_day_of_month</th>\n",
       "      <th>stays_in_weekend_nights</th>\n",
       "      <th>stays_in_week_nights</th>\n",
       "      <th>adults</th>\n",
       "      <th>...</th>\n",
       "      <th>deposit_type</th>\n",
       "      <th>agent</th>\n",
       "      <th>company</th>\n",
       "      <th>days_in_waiting_list</th>\n",
       "      <th>customer_type</th>\n",
       "      <th>adr</th>\n",
       "      <th>required_car_parking_spaces</th>\n",
       "      <th>total_of_special_requests</th>\n",
       "      <th>reservation_status</th>\n",
       "      <th>reservation_status_date</th>\n",
       "    </tr>\n",
       "  </thead>\n",
       "  <tbody>\n",
       "    <tr>\n",
       "      <th>40600</th>\n",
       "      <td>City Hotel</td>\n",
       "      <td>1</td>\n",
       "      <td>2</td>\n",
       "      <td>2015</td>\n",
       "      <td>August</td>\n",
       "      <td>32</td>\n",
       "      <td>3</td>\n",
       "      <td>1</td>\n",
       "      <td>0</td>\n",
       "      <td>2</td>\n",
       "      <td>...</td>\n",
       "      <td>No Deposit</td>\n",
       "      <td>NaN</td>\n",
       "      <td>NaN</td>\n",
       "      <td>0</td>\n",
       "      <td>Transient-Party</td>\n",
       "      <td>12.0</td>\n",
       "      <td>0</td>\n",
       "      <td>1</td>\n",
       "      <td>Canceled</td>\n",
       "      <td>2015-08-01</td>\n",
       "    </tr>\n",
       "    <tr>\n",
       "      <th>40667</th>\n",
       "      <td>City Hotel</td>\n",
       "      <td>1</td>\n",
       "      <td>1</td>\n",
       "      <td>2015</td>\n",
       "      <td>August</td>\n",
       "      <td>32</td>\n",
       "      <td>5</td>\n",
       "      <td>0</td>\n",
       "      <td>2</td>\n",
       "      <td>2</td>\n",
       "      <td>...</td>\n",
       "      <td>No Deposit</td>\n",
       "      <td>14.0</td>\n",
       "      <td>NaN</td>\n",
       "      <td>0</td>\n",
       "      <td>Transient-Party</td>\n",
       "      <td>12.0</td>\n",
       "      <td>0</td>\n",
       "      <td>1</td>\n",
       "      <td>Canceled</td>\n",
       "      <td>2015-08-04</td>\n",
       "    </tr>\n",
       "    <tr>\n",
       "      <th>40679</th>\n",
       "      <td>City Hotel</td>\n",
       "      <td>1</td>\n",
       "      <td>1</td>\n",
       "      <td>2015</td>\n",
       "      <td>August</td>\n",
       "      <td>32</td>\n",
       "      <td>5</td>\n",
       "      <td>0</td>\n",
       "      <td>2</td>\n",
       "      <td>3</td>\n",
       "      <td>...</td>\n",
       "      <td>No Deposit</td>\n",
       "      <td>NaN</td>\n",
       "      <td>NaN</td>\n",
       "      <td>0</td>\n",
       "      <td>Transient-Party</td>\n",
       "      <td>18.0</td>\n",
       "      <td>0</td>\n",
       "      <td>2</td>\n",
       "      <td>Canceled</td>\n",
       "      <td>2015-08-04</td>\n",
       "    </tr>\n",
       "    <tr>\n",
       "      <th>41160</th>\n",
       "      <td>City Hotel</td>\n",
       "      <td>1</td>\n",
       "      <td>8</td>\n",
       "      <td>2015</td>\n",
       "      <td>August</td>\n",
       "      <td>33</td>\n",
       "      <td>13</td>\n",
       "      <td>2</td>\n",
       "      <td>5</td>\n",
       "      <td>2</td>\n",
       "      <td>...</td>\n",
       "      <td>No Deposit</td>\n",
       "      <td>9.0</td>\n",
       "      <td>NaN</td>\n",
       "      <td>0</td>\n",
       "      <td>Transient-Party</td>\n",
       "      <td>76.5</td>\n",
       "      <td>0</td>\n",
       "      <td>1</td>\n",
       "      <td>Canceled</td>\n",
       "      <td>2015-08-09</td>\n",
       "    </tr>\n",
       "  </tbody>\n",
       "</table>\n",
       "<p>4 rows × 32 columns</p>\n",
       "</div>"
      ],
      "text/plain": [
       "            hotel  is_canceled  lead_time  arrival_date_year  \\\n",
       "40600  City Hotel            1          2               2015   \n",
       "40667  City Hotel            1          1               2015   \n",
       "40679  City Hotel            1          1               2015   \n",
       "41160  City Hotel            1          8               2015   \n",
       "\n",
       "      arrival_date_month  arrival_date_week_number  arrival_date_day_of_month  \\\n",
       "40600             August                        32                          3   \n",
       "40667             August                        32                          5   \n",
       "40679             August                        32                          5   \n",
       "41160             August                        33                         13   \n",
       "\n",
       "       stays_in_weekend_nights  stays_in_week_nights  adults  ...  \\\n",
       "40600                        1                     0       2  ...   \n",
       "40667                        0                     2       2  ...   \n",
       "40679                        0                     2       3  ...   \n",
       "41160                        2                     5       2  ...   \n",
       "\n",
       "       deposit_type  agent company days_in_waiting_list    customer_type  \\\n",
       "40600    No Deposit    NaN     NaN                    0  Transient-Party   \n",
       "40667    No Deposit   14.0     NaN                    0  Transient-Party   \n",
       "40679    No Deposit    NaN     NaN                    0  Transient-Party   \n",
       "41160    No Deposit    9.0     NaN                    0  Transient-Party   \n",
       "\n",
       "        adr  required_car_parking_spaces  total_of_special_requests  \\\n",
       "40600  12.0                            0                          1   \n",
       "40667  12.0                            0                          1   \n",
       "40679  18.0                            0                          2   \n",
       "41160  76.5                            0                          1   \n",
       "\n",
       "       reservation_status reservation_status_date  \n",
       "40600            Canceled              2015-08-01  \n",
       "40667            Canceled              2015-08-04  \n",
       "40679            Canceled              2015-08-04  \n",
       "41160            Canceled              2015-08-09  \n",
       "\n",
       "[4 rows x 32 columns]"
      ]
     },
     "execution_count": 9,
     "metadata": {},
     "output_type": "execute_result"
    }
   ],
   "source": [
    "# Next let's review column of Child\n",
    "dfNullChildren = df[(df.children.isnull())]\n",
    "dfNullChildren.shape\n",
    "\n",
    "dfNullChildren"
   ]
  },
  {
   "cell_type": "code",
   "execution_count": 10,
   "metadata": {},
   "outputs": [
    {
     "data": {
      "text/html": [
       "<div>\n",
       "<style scoped>\n",
       "    .dataframe tbody tr th:only-of-type {\n",
       "        vertical-align: middle;\n",
       "    }\n",
       "\n",
       "    .dataframe tbody tr th {\n",
       "        vertical-align: top;\n",
       "    }\n",
       "\n",
       "    .dataframe thead th {\n",
       "        text-align: right;\n",
       "    }\n",
       "</style>\n",
       "<table border=\"1\" class=\"dataframe\">\n",
       "  <thead>\n",
       "    <tr style=\"text-align: right;\">\n",
       "      <th></th>\n",
       "      <th>is_canceled</th>\n",
       "      <th>lead_time</th>\n",
       "      <th>arrival_date_year</th>\n",
       "      <th>arrival_date_week_number</th>\n",
       "      <th>arrival_date_day_of_month</th>\n",
       "      <th>stays_in_weekend_nights</th>\n",
       "      <th>stays_in_week_nights</th>\n",
       "      <th>adults</th>\n",
       "      <th>children</th>\n",
       "      <th>babies</th>\n",
       "      <th>is_repeated_guest</th>\n",
       "      <th>previous_cancellations</th>\n",
       "      <th>previous_bookings_not_canceled</th>\n",
       "      <th>booking_changes</th>\n",
       "      <th>agent</th>\n",
       "      <th>company</th>\n",
       "      <th>days_in_waiting_list</th>\n",
       "      <th>adr</th>\n",
       "      <th>required_car_parking_spaces</th>\n",
       "      <th>total_of_special_requests</th>\n",
       "    </tr>\n",
       "  </thead>\n",
       "  <tbody>\n",
       "    <tr>\n",
       "      <th>count</th>\n",
       "      <td>488.000000</td>\n",
       "      <td>488.000000</td>\n",
       "      <td>488.000000</td>\n",
       "      <td>488.000000</td>\n",
       "      <td>488.000000</td>\n",
       "      <td>488.000000</td>\n",
       "      <td>488.000000</td>\n",
       "      <td>488.000000</td>\n",
       "      <td>488.000000</td>\n",
       "      <td>488.000000</td>\n",
       "      <td>488.000000</td>\n",
       "      <td>488.000000</td>\n",
       "      <td>488.000000</td>\n",
       "      <td>488.000000</td>\n",
       "      <td>154.000000</td>\n",
       "      <td>174.000000</td>\n",
       "      <td>488.0</td>\n",
       "      <td>488.000000</td>\n",
       "      <td>488.000000</td>\n",
       "      <td>488.000000</td>\n",
       "    </tr>\n",
       "    <tr>\n",
       "      <th>mean</th>\n",
       "      <td>0.137295</td>\n",
       "      <td>31.741803</td>\n",
       "      <td>2015.897541</td>\n",
       "      <td>26.786885</td>\n",
       "      <td>15.231557</td>\n",
       "      <td>0.612705</td>\n",
       "      <td>2.053279</td>\n",
       "      <td>1.368852</td>\n",
       "      <td>0.026639</td>\n",
       "      <td>0.008197</td>\n",
       "      <td>0.008197</td>\n",
       "      <td>0.081967</td>\n",
       "      <td>1.469262</td>\n",
       "      <td>0.209016</td>\n",
       "      <td>186.454545</td>\n",
       "      <td>175.637931</td>\n",
       "      <td>0.0</td>\n",
       "      <td>60.486824</td>\n",
       "      <td>0.217213</td>\n",
       "      <td>0.487705</td>\n",
       "    </tr>\n",
       "    <tr>\n",
       "      <th>std</th>\n",
       "      <td>0.344512</td>\n",
       "      <td>64.022254</td>\n",
       "      <td>0.658037</td>\n",
       "      <td>16.951303</td>\n",
       "      <td>8.882860</td>\n",
       "      <td>1.438543</td>\n",
       "      <td>3.316506</td>\n",
       "      <td>0.539234</td>\n",
       "      <td>0.184923</td>\n",
       "      <td>0.110693</td>\n",
       "      <td>0.090256</td>\n",
       "      <td>0.296181</td>\n",
       "      <td>3.126209</td>\n",
       "      <td>0.525881</td>\n",
       "      <td>106.703614</td>\n",
       "      <td>111.817931</td>\n",
       "      <td>0.0</td>\n",
       "      <td>45.194175</td>\n",
       "      <td>0.412772</td>\n",
       "      <td>0.818079</td>\n",
       "    </tr>\n",
       "    <tr>\n",
       "      <th>min</th>\n",
       "      <td>0.000000</td>\n",
       "      <td>0.000000</td>\n",
       "      <td>2015.000000</td>\n",
       "      <td>1.000000</td>\n",
       "      <td>1.000000</td>\n",
       "      <td>0.000000</td>\n",
       "      <td>0.000000</td>\n",
       "      <td>0.000000</td>\n",
       "      <td>0.000000</td>\n",
       "      <td>0.000000</td>\n",
       "      <td>0.000000</td>\n",
       "      <td>0.000000</td>\n",
       "      <td>0.000000</td>\n",
       "      <td>0.000000</td>\n",
       "      <td>5.000000</td>\n",
       "      <td>9.000000</td>\n",
       "      <td>0.0</td>\n",
       "      <td>0.000000</td>\n",
       "      <td>0.000000</td>\n",
       "      <td>0.000000</td>\n",
       "    </tr>\n",
       "    <tr>\n",
       "      <th>25%</th>\n",
       "      <td>0.000000</td>\n",
       "      <td>0.750000</td>\n",
       "      <td>2015.000000</td>\n",
       "      <td>10.000000</td>\n",
       "      <td>8.000000</td>\n",
       "      <td>0.000000</td>\n",
       "      <td>1.000000</td>\n",
       "      <td>1.000000</td>\n",
       "      <td>0.000000</td>\n",
       "      <td>0.000000</td>\n",
       "      <td>0.000000</td>\n",
       "      <td>0.000000</td>\n",
       "      <td>0.000000</td>\n",
       "      <td>0.000000</td>\n",
       "      <td>96.000000</td>\n",
       "      <td>94.000000</td>\n",
       "      <td>0.0</td>\n",
       "      <td>35.000000</td>\n",
       "      <td>0.000000</td>\n",
       "      <td>0.000000</td>\n",
       "    </tr>\n",
       "    <tr>\n",
       "      <th>50%</th>\n",
       "      <td>0.000000</td>\n",
       "      <td>4.000000</td>\n",
       "      <td>2016.000000</td>\n",
       "      <td>28.000000</td>\n",
       "      <td>15.000000</td>\n",
       "      <td>0.000000</td>\n",
       "      <td>1.000000</td>\n",
       "      <td>1.000000</td>\n",
       "      <td>0.000000</td>\n",
       "      <td>0.000000</td>\n",
       "      <td>0.000000</td>\n",
       "      <td>0.000000</td>\n",
       "      <td>0.000000</td>\n",
       "      <td>0.000000</td>\n",
       "      <td>240.000000</td>\n",
       "      <td>154.000000</td>\n",
       "      <td>0.0</td>\n",
       "      <td>46.500000</td>\n",
       "      <td>0.000000</td>\n",
       "      <td>0.000000</td>\n",
       "    </tr>\n",
       "    <tr>\n",
       "      <th>75%</th>\n",
       "      <td>0.000000</td>\n",
       "      <td>16.250000</td>\n",
       "      <td>2016.000000</td>\n",
       "      <td>43.000000</td>\n",
       "      <td>23.000000</td>\n",
       "      <td>1.000000</td>\n",
       "      <td>2.000000</td>\n",
       "      <td>2.000000</td>\n",
       "      <td>0.000000</td>\n",
       "      <td>0.000000</td>\n",
       "      <td>0.000000</td>\n",
       "      <td>0.000000</td>\n",
       "      <td>2.000000</td>\n",
       "      <td>0.000000</td>\n",
       "      <td>240.000000</td>\n",
       "      <td>269.000000</td>\n",
       "      <td>0.0</td>\n",
       "      <td>65.000000</td>\n",
       "      <td>0.000000</td>\n",
       "      <td>1.000000</td>\n",
       "    </tr>\n",
       "    <tr>\n",
       "      <th>max</th>\n",
       "      <td>1.000000</td>\n",
       "      <td>267.000000</td>\n",
       "      <td>2017.000000</td>\n",
       "      <td>53.000000</td>\n",
       "      <td>31.000000</td>\n",
       "      <td>19.000000</td>\n",
       "      <td>50.000000</td>\n",
       "      <td>3.000000</td>\n",
       "      <td>2.000000</td>\n",
       "      <td>2.000000</td>\n",
       "      <td>1.000000</td>\n",
       "      <td>2.000000</td>\n",
       "      <td>29.000000</td>\n",
       "      <td>4.000000</td>\n",
       "      <td>468.000000</td>\n",
       "      <td>490.000000</td>\n",
       "      <td>0.0</td>\n",
       "      <td>305.000000</td>\n",
       "      <td>1.000000</td>\n",
       "      <td>5.000000</td>\n",
       "    </tr>\n",
       "  </tbody>\n",
       "</table>\n",
       "</div>"
      ],
      "text/plain": [
       "       is_canceled   lead_time  arrival_date_year  arrival_date_week_number  \\\n",
       "count   488.000000  488.000000         488.000000                488.000000   \n",
       "mean      0.137295   31.741803        2015.897541                 26.786885   \n",
       "std       0.344512   64.022254           0.658037                 16.951303   \n",
       "min       0.000000    0.000000        2015.000000                  1.000000   \n",
       "25%       0.000000    0.750000        2015.000000                 10.000000   \n",
       "50%       0.000000    4.000000        2016.000000                 28.000000   \n",
       "75%       0.000000   16.250000        2016.000000                 43.000000   \n",
       "max       1.000000  267.000000        2017.000000                 53.000000   \n",
       "\n",
       "       arrival_date_day_of_month  stays_in_weekend_nights  \\\n",
       "count                 488.000000               488.000000   \n",
       "mean                   15.231557                 0.612705   \n",
       "std                     8.882860                 1.438543   \n",
       "min                     1.000000                 0.000000   \n",
       "25%                     8.000000                 0.000000   \n",
       "50%                    15.000000                 0.000000   \n",
       "75%                    23.000000                 1.000000   \n",
       "max                    31.000000                19.000000   \n",
       "\n",
       "       stays_in_week_nights      adults    children      babies  \\\n",
       "count            488.000000  488.000000  488.000000  488.000000   \n",
       "mean               2.053279    1.368852    0.026639    0.008197   \n",
       "std                3.316506    0.539234    0.184923    0.110693   \n",
       "min                0.000000    0.000000    0.000000    0.000000   \n",
       "25%                1.000000    1.000000    0.000000    0.000000   \n",
       "50%                1.000000    1.000000    0.000000    0.000000   \n",
       "75%                2.000000    2.000000    0.000000    0.000000   \n",
       "max               50.000000    3.000000    2.000000    2.000000   \n",
       "\n",
       "       is_repeated_guest  previous_cancellations  \\\n",
       "count         488.000000              488.000000   \n",
       "mean            0.008197                0.081967   \n",
       "std             0.090256                0.296181   \n",
       "min             0.000000                0.000000   \n",
       "25%             0.000000                0.000000   \n",
       "50%             0.000000                0.000000   \n",
       "75%             0.000000                0.000000   \n",
       "max             1.000000                2.000000   \n",
       "\n",
       "       previous_bookings_not_canceled  booking_changes       agent  \\\n",
       "count                      488.000000       488.000000  154.000000   \n",
       "mean                         1.469262         0.209016  186.454545   \n",
       "std                          3.126209         0.525881  106.703614   \n",
       "min                          0.000000         0.000000    5.000000   \n",
       "25%                          0.000000         0.000000   96.000000   \n",
       "50%                          0.000000         0.000000  240.000000   \n",
       "75%                          2.000000         0.000000  240.000000   \n",
       "max                         29.000000         4.000000  468.000000   \n",
       "\n",
       "          company  days_in_waiting_list         adr  \\\n",
       "count  174.000000                 488.0  488.000000   \n",
       "mean   175.637931                   0.0   60.486824   \n",
       "std    111.817931                   0.0   45.194175   \n",
       "min      9.000000                   0.0    0.000000   \n",
       "25%     94.000000                   0.0   35.000000   \n",
       "50%    154.000000                   0.0   46.500000   \n",
       "75%    269.000000                   0.0   65.000000   \n",
       "max    490.000000                   0.0  305.000000   \n",
       "\n",
       "       required_car_parking_spaces  total_of_special_requests  \n",
       "count                   488.000000                 488.000000  \n",
       "mean                      0.217213                   0.487705  \n",
       "std                       0.412772                   0.818079  \n",
       "min                       0.000000                   0.000000  \n",
       "25%                       0.000000                   0.000000  \n",
       "50%                       0.000000                   0.000000  \n",
       "75%                       0.000000                   1.000000  \n",
       "max                       1.000000                   5.000000  "
      ]
     },
     "execution_count": 10,
     "metadata": {},
     "output_type": "execute_result"
    }
   ],
   "source": [
    "# Next let's review column of Country\n",
    "dfNullCountry = df[(df.country.isnull())]\n",
    "dfNullCountry.shape\n",
    "\n",
    "# check what are the unique values for country\n",
    "df.country.sort_values(ascending=True).unique()\n",
    "\n",
    "# analyze is there any pattern of data combinations when country is NaN.  Nothing obvious observed based on the data summary\n",
    "dfNullCountry.describe()"
   ]
  },
  {
   "cell_type": "code",
   "execution_count": 11,
   "metadata": {
    "scrolled": true
   },
   "outputs": [
    {
     "data": {
      "text/html": [
       "<div>\n",
       "<style scoped>\n",
       "    .dataframe tbody tr th:only-of-type {\n",
       "        vertical-align: middle;\n",
       "    }\n",
       "\n",
       "    .dataframe tbody tr th {\n",
       "        vertical-align: top;\n",
       "    }\n",
       "\n",
       "    .dataframe thead th {\n",
       "        text-align: right;\n",
       "    }\n",
       "</style>\n",
       "<table border=\"1\" class=\"dataframe\">\n",
       "  <thead>\n",
       "    <tr style=\"text-align: right;\">\n",
       "      <th></th>\n",
       "      <th>MissingMean</th>\n",
       "    </tr>\n",
       "  </thead>\n",
       "  <tbody>\n",
       "  </tbody>\n",
       "</table>\n",
       "</div>"
      ],
      "text/plain": [
       "Empty DataFrame\n",
       "Columns: [MissingMean]\n",
       "Index: []"
      ]
     },
     "execution_count": 11,
     "metadata": {},
     "output_type": "execute_result"
    }
   ],
   "source": [
    "# With the above, it is safe to replace NaN value with: \n",
    "#   i.   0 for Company and Agent columns to represent the respective booking was not file neither by Company or Agent\n",
    "#   ii.  0 for Children\n",
    "#   iii. OTH for Country\n",
    "\n",
    "dfProcess = df\n",
    "dfProcess.company.fillna(value=0, inplace=True)\n",
    "dfProcess.agent.fillna(value=0, inplace=True)\n",
    "dfProcess.children.fillna(value=0, inplace=True)\n",
    "dfProcess.country.fillna(value='OTH', inplace=True)\n",
    "\n",
    "dfMissingValue = pd.DataFrame(dfProcess.isnull().mean(), columns=['MissingMean'])\n",
    "dfMissingValue[dfMissingValue.MissingMean >0]"
   ]
  },
  {
   "cell_type": "markdown",
   "metadata": {},
   "source": [
    "# Now let's start to answer the 3 business questions posted earlier:\n",
    "\n",
    "# Question 1. What is the cancellation rate over the years for different hotel categories?"
   ]
  },
  {
   "cell_type": "code",
   "execution_count": 12,
   "metadata": {},
   "outputs": [
    {
     "data": {
      "text/html": [
       "<div>\n",
       "<style scoped>\n",
       "    .dataframe tbody tr th:only-of-type {\n",
       "        vertical-align: middle;\n",
       "    }\n",
       "\n",
       "    .dataframe tbody tr th {\n",
       "        vertical-align: top;\n",
       "    }\n",
       "\n",
       "    .dataframe thead th {\n",
       "        text-align: right;\n",
       "    }\n",
       "</style>\n",
       "<table border=\"1\" class=\"dataframe\">\n",
       "  <thead>\n",
       "    <tr style=\"text-align: right;\">\n",
       "      <th></th>\n",
       "      <th>hotel</th>\n",
       "      <th>City Hotel</th>\n",
       "      <th>Resort Hotel</th>\n",
       "    </tr>\n",
       "    <tr>\n",
       "      <th>reservation_status</th>\n",
       "      <th>arrival_date_year</th>\n",
       "      <th></th>\n",
       "      <th></th>\n",
       "    </tr>\n",
       "  </thead>\n",
       "  <tbody>\n",
       "    <tr>\n",
       "      <th rowspan=\"3\" valign=\"top\">Canceled</th>\n",
       "      <th>2015</th>\n",
       "      <td>5882</td>\n",
       "      <td>2069</td>\n",
       "    </tr>\n",
       "    <tr>\n",
       "      <th>2016</th>\n",
       "      <td>14852</td>\n",
       "      <td>4817</td>\n",
       "    </tr>\n",
       "    <tr>\n",
       "      <th>2017</th>\n",
       "      <td>11452</td>\n",
       "      <td>3945</td>\n",
       "    </tr>\n",
       "    <tr>\n",
       "      <th rowspan=\"3\" valign=\"top\">Check-Out</th>\n",
       "      <th>2015</th>\n",
       "      <td>7678</td>\n",
       "      <td>6176</td>\n",
       "    </tr>\n",
       "    <tr>\n",
       "      <th>2016</th>\n",
       "      <td>22733</td>\n",
       "      <td>13637</td>\n",
       "    </tr>\n",
       "    <tr>\n",
       "      <th>2017</th>\n",
       "      <td>15817</td>\n",
       "      <td>9125</td>\n",
       "    </tr>\n",
       "    <tr>\n",
       "      <th rowspan=\"3\" valign=\"top\">No-Show</th>\n",
       "      <th>2015</th>\n",
       "      <td>122</td>\n",
       "      <td>69</td>\n",
       "    </tr>\n",
       "    <tr>\n",
       "      <th>2016</th>\n",
       "      <td>555</td>\n",
       "      <td>113</td>\n",
       "    </tr>\n",
       "    <tr>\n",
       "      <th>2017</th>\n",
       "      <td>239</td>\n",
       "      <td>109</td>\n",
       "    </tr>\n",
       "  </tbody>\n",
       "</table>\n",
       "</div>"
      ],
      "text/plain": [
       "hotel                                 City Hotel  Resort Hotel\n",
       "reservation_status arrival_date_year                          \n",
       "Canceled           2015                     5882          2069\n",
       "                   2016                    14852          4817\n",
       "                   2017                    11452          3945\n",
       "Check-Out          2015                     7678          6176\n",
       "                   2016                    22733         13637\n",
       "                   2017                    15817          9125\n",
       "No-Show            2015                      122            69\n",
       "                   2016                      555           113\n",
       "                   2017                      239           109"
      ]
     },
     "execution_count": 12,
     "metadata": {},
     "output_type": "execute_result"
    }
   ],
   "source": [
    "# First, let's analyze the cancellation rate over the years for different hotel types.\n",
    "HotelCancellationTransactions = pd.DataFrame(df.groupby(['reservation_status','arrival_date_year','hotel']).count()['arrival_date_week_number'].unstack())\n",
    "HotelCancellationTransactions"
   ]
  },
  {
   "cell_type": "code",
   "execution_count": 13,
   "metadata": {},
   "outputs": [
    {
     "data": {
      "text/plain": [
       "<matplotlib.axes._subplots.AxesSubplot at 0x23d1a392e48>"
      ]
     },
     "execution_count": 13,
     "metadata": {},
     "output_type": "execute_result"
    },
    {
     "data": {
      "image/png": "[encoded data removed]",
      "text/plain": [
       "<matplotlib.figure.Figure at 0x23d1a39fef0>"
      ]
     },
     "metadata": {},
     "output_type": "display_data"
    }
   ],
   "source": [
    "HotelCancellationTransactions.plot(kind='bar', stacked=True)"
   ]
  },
  {
   "cell_type": "code",
   "execution_count": 14,
   "metadata": {},
   "outputs": [
    {
     "data": {
      "text/html": [
       "<div>\n",
       "<style scoped>\n",
       "    .dataframe tbody tr th:only-of-type {\n",
       "        vertical-align: middle;\n",
       "    }\n",
       "\n",
       "    .dataframe tbody tr th {\n",
       "        vertical-align: top;\n",
       "    }\n",
       "\n",
       "    .dataframe thead th {\n",
       "        text-align: right;\n",
       "    }\n",
       "</style>\n",
       "<table border=\"1\" class=\"dataframe\">\n",
       "  <thead>\n",
       "    <tr style=\"text-align: right;\">\n",
       "      <th></th>\n",
       "      <th>Hotel</th>\n",
       "      <th>Year</th>\n",
       "      <th>PcCanceled</th>\n",
       "      <th>PcCheckOut</th>\n",
       "      <th>PcNoShow</th>\n",
       "    </tr>\n",
       "  </thead>\n",
       "  <tbody>\n",
       "    <tr>\n",
       "      <th>0</th>\n",
       "      <td>Resort Hotel</td>\n",
       "      <td>2015</td>\n",
       "      <td>0.25</td>\n",
       "      <td>0.74</td>\n",
       "      <td>0.01</td>\n",
       "    </tr>\n",
       "    <tr>\n",
       "      <th>1</th>\n",
       "      <td>Resort Hotel</td>\n",
       "      <td>2016</td>\n",
       "      <td>0.26</td>\n",
       "      <td>0.73</td>\n",
       "      <td>0.01</td>\n",
       "    </tr>\n",
       "    <tr>\n",
       "      <th>2</th>\n",
       "      <td>Resort Hotel</td>\n",
       "      <td>2017</td>\n",
       "      <td>0.30</td>\n",
       "      <td>0.69</td>\n",
       "      <td>0.01</td>\n",
       "    </tr>\n",
       "    <tr>\n",
       "      <th>3</th>\n",
       "      <td>City Hotel</td>\n",
       "      <td>2015</td>\n",
       "      <td>0.43</td>\n",
       "      <td>0.56</td>\n",
       "      <td>0.01</td>\n",
       "    </tr>\n",
       "    <tr>\n",
       "      <th>4</th>\n",
       "      <td>City Hotel</td>\n",
       "      <td>2016</td>\n",
       "      <td>0.39</td>\n",
       "      <td>0.60</td>\n",
       "      <td>0.01</td>\n",
       "    </tr>\n",
       "    <tr>\n",
       "      <th>5</th>\n",
       "      <td>City Hotel</td>\n",
       "      <td>2017</td>\n",
       "      <td>0.42</td>\n",
       "      <td>0.57</td>\n",
       "      <td>0.01</td>\n",
       "    </tr>\n",
       "  </tbody>\n",
       "</table>\n",
       "</div>"
      ],
      "text/plain": [
       "          Hotel  Year  PcCanceled  PcCheckOut  PcNoShow\n",
       "0  Resort Hotel  2015        0.25        0.74      0.01\n",
       "1  Resort Hotel  2016        0.26        0.73      0.01\n",
       "2  Resort Hotel  2017        0.30        0.69      0.01\n",
       "3    City Hotel  2015        0.43        0.56      0.01\n",
       "4    City Hotel  2016        0.39        0.60      0.01\n",
       "5    City Hotel  2017        0.42        0.57      0.01"
      ]
     },
     "execution_count": 14,
     "metadata": {},
     "output_type": "execute_result"
    }
   ],
   "source": [
    "dfHotelRSBreakdown = pd.DataFrame(columns = ['Hotel', 'Year', 'PcCanceled', 'PcCheckOut', 'PcNoShow'])\n",
    "for hotelType in df['hotel'].unique():\n",
    "    for rsYear in df.loc[df['hotel']==hotelType]['arrival_date_year'].unique():\n",
    "        dfSubset = df.loc[(df['hotel']==hotelType) & (df['arrival_date_year']==rsYear)]       \n",
    "        TotalTrans = dfSubset.shape[0]\n",
    "        PcCanceled = dfSubset.loc[dfSubset['reservation_status']=='Canceled'].shape[0]\n",
    "        PcCheckOut = dfSubset.loc[dfSubset['reservation_status']=='Check-Out'].shape[0]\n",
    "        PcNoShow = dfSubset.loc[dfSubset['reservation_status']=='No-Show'].shape[0]\n",
    "        newRow = pd.Series([hotelType, rsYear, round(PcCanceled/TotalTrans, 2), round(PcCheckOut/TotalTrans,2), round(PcNoShow/TotalTrans,2)], index=dfHotelRSBreakdown.columns)\n",
    "        dfHotelRSBreakdown = dfHotelRSBreakdown.append(newRow, ignore_index=True)\n",
    "\n",
    "dfHotelRSBreakdown"
   ]
  },
  {
   "cell_type": "markdown",
   "metadata": {},
   "source": [
    "# Analysis - Cancellation rate over the years for different hotel categories:\n",
    "1. Observed that City Hotel had a higher # of transactions in total compared to Resolt Hotel cross 2015-2017.  \n",
    "2. At the same time, City Hotel had higher # of cancellations as well as cancellation rate compared to Resort Hotel cross the 3 years period.  \n",
    "3. Cancellation rate for City Hotel reduced slightly 2016 compared to 2015 but increased in 2017.  On the other hand, Cancellation rate for Resort Hotel increased over years.  \n",
    "4. To answer the subsequent questions, we will focus only for City Hotel using Year 2017 data set."
   ]
  },
  {
   "cell_type": "markdown",
   "metadata": {},
   "source": [
    "# Question 2. Are we able to predict booking cancellation? (Targetted: City Hotel) "
   ]
  },
  {
   "cell_type": "code",
   "execution_count": 15,
   "metadata": {},
   "outputs": [
    {
     "data": {
      "text/plain": [
       "(27508, 32)"
      ]
     },
     "execution_count": 15,
     "metadata": {},
     "output_type": "execute_result"
    }
   ],
   "source": [
    "# Let's analyze cancellation data for City Hotel in Year 2017\n",
    "dfCity2017 = dfProcess[(dfProcess.hotel =='City Hotel') & (dfProcess.arrival_date_year ==2017)]\n",
    "dfCity2017.shape"
   ]
  },
  {
   "cell_type": "code",
   "execution_count": 16,
   "metadata": {},
   "outputs": [
    {
     "data": {
      "text/plain": [
       "array(['No Deposit', 'Non Refund'], dtype=object)"
      ]
     },
     "execution_count": 16,
     "metadata": {},
     "output_type": "execute_result"
    }
   ],
   "source": [
    "dfCity2017[dfCity2017.reservation_status == 'No-Show'].deposit_type.unique()"
   ]
  },
  {
   "cell_type": "markdown",
   "metadata": {},
   "source": [
    "# 2.1 Analysis by Country"
   ]
  },
  {
   "cell_type": "code",
   "execution_count": 17,
   "metadata": {},
   "outputs": [],
   "source": [
    "# Define function to plot pie chart\n",
    "def PiePlot(dfValues, dfLabels) :\n",
    "    # pie plot\n",
    "    plt.pie(dfValues, labels=dfLabels, autopct='%1.1f%%', shadow=True)\n",
    "    plt.show()"
   ]
  },
  {
   "cell_type": "code",
   "execution_count": 18,
   "metadata": {},
   "outputs": [
    {
     "data": {
      "image/png": "[encoded data removed]",
      "text/plain": [
       "<matplotlib.figure.Figure at 0x23d18ed82e8>"
      ]
     },
     "metadata": {},
     "output_type": "display_data"
    }
   ],
   "source": [
    "# Country distribution for all transactions \n",
    "dfCountry = pd.DataFrame(dfCity2017.groupby(['country']).count()['hotel'])\n",
    "dfCountry.rename(columns={'hotel':'Number of Bookings'}, inplace=True)\n",
    "dfCountry.sort_values(by='Number of Bookings', ascending=False, inplace=True)\n",
    "#dfCountry.head()\n",
    "dfCountry[\"Booking Rate %\"] = round(dfCountry[\"Number of Bookings\"]/dfCity2017.shape[0],3)\n",
    "dfCountry[\"Country\"] = dfCountry.index\n",
    "#dfCountry[\"Booking Rate %\"].sum()\n",
    "\n",
    "# pie plot\n",
    "PiePlot(dfCountry[\"Number of Bookings\"], dfCountry[\"Country\"])"
   ]
  },
  {
   "cell_type": "code",
   "execution_count": 19,
   "metadata": {},
   "outputs": [
    {
     "data": {
      "image/png": "[encoded data removed]",
      "text/plain": [
       "<matplotlib.figure.Figure at 0x23d18daa630>"
      ]
     },
     "metadata": {},
     "output_type": "display_data"
    }
   ],
   "source": [
    "# Next lets see the cancellation by country\n",
    "\n",
    "dfCancelCountry = pd.DataFrame(dfCity2017[dfCity2017.is_canceled ==1].groupby(['country']).count()['hotel'])\n",
    "dfCancelCountry.rename(columns={'hotel':'Number of Cancel Bookings'}, inplace=True)\n",
    "dfCancelCountry.sort_values(by='Number of Cancel Bookings', ascending=False, inplace=True)\n",
    "dfCancelCountry[\"Booking Cancel Rate %\"] = round(dfCancelCountry[\"Number of Cancel Bookings\"]/dfCity2017.shape[0],3)\n",
    "dfCancelCountry[\"Country Cancel\"] = dfCancelCountry.index\n",
    "dfCancelCountry[\"Booking Cancel Rate %\"].sum()\n",
    "\n",
    "# pie plot\n",
    "PiePlot(dfCancelCountry[\"Number of Cancel Bookings\"], dfCancelCountry[\"Country Cancel\"])\n"
   ]
  },
  {
   "cell_type": "markdown",
   "metadata": {},
   "source": [
    "# Analysis by Country Summary:\n",
    "1. The hotels seems to be located in Europe as top countries with high # of total and cancellation transactions are from Europe Region.  With further analysis over internet, it is confirmed that the hotels are located in Portugal.\n",
    "2. Local guests from Portugal has the highest cancellation rate among others, ~48% over total transactions.\n",
    "3. We might want to consider festive seasons & holidays in Europe in general as well as Portugal in specific for subsequent data analysis.\n"
   ]
  },
  {
   "cell_type": "markdown",
   "metadata": {},
   "source": [
    "# 2.2 Analysis by Month"
   ]
  },
  {
   "cell_type": "code",
   "execution_count": 20,
   "metadata": {},
   "outputs": [],
   "source": [
    "months = [\"January\", \"February\", \"March\", \"April\", \"May\", \"June\", \n",
    "          \"July\", \"August\", \"September\", \"October\", \"November\", \"December\"]"
   ]
  },
  {
   "cell_type": "markdown",
   "metadata": {},
   "source": [
    "# 2.2.1 Let's first look at City Hotel monthly cancellation trend for 2015-2017"
   ]
  },
  {
   "cell_type": "code",
   "execution_count": 21,
   "metadata": {},
   "outputs": [
    {
     "data": {
      "text/plain": [
       "<matplotlib.axes._subplots.AxesSubplot at 0x23d1e773d30>"
      ]
     },
     "execution_count": 21,
     "metadata": {},
     "output_type": "execute_result"
    },
    {
     "data": {
      "image/png": "[encoded data removed]",
      "text/plain": [
       "<matplotlib.figure.Figure at 0x23d1e7735f8>"
      ]
     },
     "metadata": {},
     "output_type": "display_data"
    }
   ],
   "source": [
    "dfCompare = pd.DataFrame()\n",
    "for yr in [2016,2015,2017]:\n",
    "    dfHotel = dfProcess[(dfProcess.hotel =='City Hotel') & (dfProcess.arrival_date_year == yr)]\n",
    "\n",
    "    # Monthly distribution for Cancelled transactions \n",
    "    dfCancelTrnx = pd.DataFrame(dfHotel[dfHotel.is_canceled ==1].groupby(['arrival_date_month']).count()['hotel'])\n",
    "    colCancelYear = 'Cancel{}'.format(yr)\n",
    "    dfCancelTrnx.rename(columns={'hotel':colCancelYear}, inplace=True)\n",
    "    dfCancelTrnx[\"Month\"] = pd.Categorical(dfCancelTrnx.index, categories=months, ordered=True)\n",
    "    dfCancelTrnx.sort_values('Month', inplace=True)\n",
    "    dfCancelTrnx.reindex()\n",
    "    \n",
    "    if (dfCompare.shape[0] == 0):\n",
    "        dfCompare = dfCancelTrnx\n",
    "    else:\n",
    "        dfCompare[colCancelYear] = dfCancelTrnx[colCancelYear]\n",
    "\n",
    "dfCompare[['Cancel2015','Cancel2016','Cancel2017']].plot(kind='line', figsize=[15,7])\n",
    "        "
   ]
  },
  {
   "cell_type": "markdown",
   "metadata": {},
   "source": [
    "# Analysis - City Hotel monthly cancellation for 2015-2017\n",
    "1. We want to understand is there any seasonal elements or features changes over the years that we need to consider when predicting City Hotel's booking cancellation.\n",
    "2. From the chart above, \n",
    "    i. there are significant differences of bookings cancellation # and trend from Sept-Dec comparing 2015 & 2016 as well as Jan-Feb, Apr-Aug for 2016 & 2017.\n",
    "    ii. Similar patterns of cancellation trend observed from July-Sept for 2015 & 2016.  Same goes to Feb-Apr for 2016 & 2017.\n",
    "    iii. We might want to understand more any special events or any festive seasons/holidays for the months with significant changes in cancellation trend as well as high volume # of transactions.\n"
   ]
  },
  {
   "cell_type": "markdown",
   "metadata": {},
   "source": [
    "# 2.2.2 Next let's look at City Hotel monthly bookings for 2017"
   ]
  },
  {
   "cell_type": "code",
   "execution_count": 42,
   "metadata": {
    "scrolled": false
   },
   "outputs": [
    {
     "data": {
      "text/plain": [
       "<matplotlib.axes._subplots.AxesSubplot at 0x23d20538c18>"
      ]
     },
     "execution_count": 42,
     "metadata": {},
     "output_type": "execute_result"
    },
    {
     "data": {
      "image/png": "[encoded data removed]",
      "text/plain": [
       "<matplotlib.figure.Figure at 0x23d1fdec518>"
      ]
     },
     "metadata": {},
     "output_type": "display_data"
    }
   ],
   "source": [
    "# Monthly distribution for all transactions \n",
    "dfMonth = pd.DataFrame(dfCity2017.groupby(['arrival_date_month']).count()['hotel'])\n",
    "dfMonth.rename(columns={'hotel':'Number of Bookings'}, inplace=True)\n",
    "dfMonth['Month'] = pd.Categorical(dfMonth.index, categories=months, ordered=True)\n",
    "dfMonth.sort_values('Month', inplace=True)\n",
    "dfMonth.reindex()\n",
    "\n",
    "# Merge with Number of Cancel Bookings 2017 calculated earlier\n",
    "dfMonth['Number of Cancel Bookings'] = dfCancelTrnx.Cancel2017\n",
    "dfMonth[\"Cancel Bookings %\"] = round(dfMonth[\"Number of Cancel Bookings\"]/dfMonth[\"Number of Bookings\"],3)\n",
    "dfMonth.sort_values('Month', inplace=True)\n",
    "\n",
    "# create figure and axis objects with subplots()\n",
    "fig,ax = plt.subplots(1,2, figsize=(15,5))\n",
    "\n",
    "# First Plot the graph of total books vs cancel bookings to see any similar trend\n",
    "dfMonth[['Number of Bookings','Number of Cancel Bookings']].plot(kind='line', ax=ax[0])\n",
    "\n",
    "dfMonth[['Cancel Bookings %']].plot(kind='line', ax=ax[1])\n",
    "ax2=ax[1].twinx()\n",
    "dfMonth[['Number of Cancel Bookings']].plot(kind='line', ax=ax2, color=\"red\")\n"
   ]
  },
  {
   "cell_type": "code",
   "execution_count": 23,
   "metadata": {},
   "outputs": [
    {
     "data": {
      "text/html": [
       "<div>\n",
       "<style scoped>\n",
       "    .dataframe tbody tr th:only-of-type {\n",
       "        vertical-align: middle;\n",
       "    }\n",
       "\n",
       "    .dataframe tbody tr th {\n",
       "        vertical-align: top;\n",
       "    }\n",
       "\n",
       "    .dataframe thead th {\n",
       "        text-align: right;\n",
       "    }\n",
       "</style>\n",
       "<table border=\"1\" class=\"dataframe\">\n",
       "  <thead>\n",
       "    <tr style=\"text-align: right;\">\n",
       "      <th></th>\n",
       "      <th>Number of Bookings</th>\n",
       "      <th>Month</th>\n",
       "      <th>Number of Cancel Bookings</th>\n",
       "      <th>Cancel Bookings %</th>\n",
       "    </tr>\n",
       "    <tr>\n",
       "      <th>arrival_date_month</th>\n",
       "      <th></th>\n",
       "      <th></th>\n",
       "      <th></th>\n",
       "      <th></th>\n",
       "    </tr>\n",
       "  </thead>\n",
       "  <tbody>\n",
       "    <tr>\n",
       "      <th>January</th>\n",
       "      <td>2372</td>\n",
       "      <td>January</td>\n",
       "      <td>1044</td>\n",
       "      <td>0.440</td>\n",
       "    </tr>\n",
       "    <tr>\n",
       "      <th>February</th>\n",
       "      <td>2594</td>\n",
       "      <td>February</td>\n",
       "      <td>971</td>\n",
       "      <td>0.374</td>\n",
       "    </tr>\n",
       "    <tr>\n",
       "      <th>March</th>\n",
       "      <td>3412</td>\n",
       "      <td>March</td>\n",
       "      <td>1278</td>\n",
       "      <td>0.375</td>\n",
       "    </tr>\n",
       "    <tr>\n",
       "      <th>April</th>\n",
       "      <td>3919</td>\n",
       "      <td>April</td>\n",
       "      <td>1926</td>\n",
       "      <td>0.491</td>\n",
       "    </tr>\n",
       "    <tr>\n",
       "      <th>May</th>\n",
       "      <td>4556</td>\n",
       "      <td>May</td>\n",
       "      <td>2217</td>\n",
       "      <td>0.487</td>\n",
       "    </tr>\n",
       "    <tr>\n",
       "      <th>June</th>\n",
       "      <td>3971</td>\n",
       "      <td>June</td>\n",
       "      <td>1808</td>\n",
       "      <td>0.455</td>\n",
       "    </tr>\n",
       "    <tr>\n",
       "      <th>July</th>\n",
       "      <td>3559</td>\n",
       "      <td>July</td>\n",
       "      <td>1324</td>\n",
       "      <td>0.372</td>\n",
       "    </tr>\n",
       "    <tr>\n",
       "      <th>August</th>\n",
       "      <td>3125</td>\n",
       "      <td>August</td>\n",
       "      <td>1123</td>\n",
       "      <td>0.359</td>\n",
       "    </tr>\n",
       "  </tbody>\n",
       "</table>\n",
       "</div>"
      ],
      "text/plain": [
       "                    Number of Bookings     Month  Number of Cancel Bookings  \\\n",
       "arrival_date_month                                                            \n",
       "January                           2372   January                       1044   \n",
       "February                          2594  February                        971   \n",
       "March                             3412     March                       1278   \n",
       "April                             3919     April                       1926   \n",
       "May                               4556       May                       2217   \n",
       "June                              3971      June                       1808   \n",
       "July                              3559      July                       1324   \n",
       "August                            3125    August                       1123   \n",
       "\n",
       "                    Cancel Bookings %  \n",
       "arrival_date_month                     \n",
       "January                         0.440  \n",
       "February                        0.374  \n",
       "March                           0.375  \n",
       "April                           0.491  \n",
       "May                             0.487  \n",
       "June                            0.455  \n",
       "July                            0.372  \n",
       "August                          0.359  "
      ]
     },
     "execution_count": 23,
     "metadata": {},
     "output_type": "execute_result"
    }
   ],
   "source": [
    "dfMonth"
   ]
  },
  {
   "cell_type": "markdown",
   "metadata": {},
   "source": [
    "# Analysis - City Hotel monthly bookings for 2017\n",
    "1. Similar trend for # of total bookings vs # of cancel bookings throughout the various month.\n",
    "2. Cancellation rate is relatively high, ranging from ~36%-49%.  It is higher in the month of Apr-June."
   ]
  },
  {
   "cell_type": "markdown",
   "metadata": {},
   "source": [
    "# 2.3 Feature Extractions"
   ]
  },
  {
   "cell_type": "markdown",
   "metadata": {},
   "source": [
    "# 2.3.1 Feature Correlations"
   ]
  },
  {
   "cell_type": "code",
   "execution_count": 24,
   "metadata": {},
   "outputs": [
    {
     "data": {
      "text/plain": [
       "total_of_special_requests         0.271840\n",
       "lead_time                         0.197206\n",
       "booking_changes                   0.152772\n",
       "required_car_parking_spaces       0.119477\n",
       "is_repeated_guest                 0.108495\n",
       "company                           0.066050\n",
       "adults                            0.062481\n",
       "previous_bookings_not_canceled    0.060455\n",
       "stays_in_week_nights              0.055360\n",
       "previous_cancellations            0.039216\n",
       "babies                            0.036183\n",
       "days_in_waiting_list              0.035733\n",
       "agent                             0.030725\n",
       "arrival_date_week_number          0.022212\n",
       "children                          0.020795\n",
       "adr                               0.019175\n",
       "arrival_date_day_of_month         0.007737\n",
       "stays_in_weekend_nights           0.002552\n",
       "arrival_date_year                      NaN\n",
       "Name: is_canceled, dtype: float64"
      ]
     },
     "execution_count": 24,
     "metadata": {},
     "output_type": "execute_result"
    }
   ],
   "source": [
    "cancel_corr = dfCity2017.corr()[\"is_canceled\"]\n",
    "cancel_corr.abs().sort_values(ascending=False)[1:]"
   ]
  },
  {
   "cell_type": "markdown",
   "metadata": {},
   "source": [
    "# Analysis - Feature Correlations\n",
    "1. It only take into consideration numerical features in the Correlation analysis above.\n",
    "2. It shows that total_of_special_requests, lead_time, booking_changes, required_car_parking_spaces & is_repeated_guest are the top 5 important features, high correlated with is_canceled. \n",
    "3. However, based on previous analysis, \n",
    "    i. the cancellation rate is higher when the total bookings increased.  April to June are the highest among all.  It is not showing up in the feature correlations above due to categorical type.\n",
    "    ii. Country should be another categorical feature that to consider when predicting cancellation.  However let's evaluate more in the later part of this analysis. Ex: for those bookings coming from \"PRT\""
   ]
  },
  {
   "cell_type": "markdown",
   "metadata": {},
   "source": [
    "# 2.3.2 Feature Extractions & Modelling"
   ]
  },
  {
   "cell_type": "code",
   "execution_count": 25,
   "metadata": {},
   "outputs": [],
   "source": [
    "# Let's manually select which features to include and exclude for the model prediction\n",
    "# Features to exclude:\n",
    "#   1. arrival_date_year & hotel (since we only focus on City Hotel based on transactions in 2017)\n",
    "#   2. reservation_status - since it is the same with is_cancelled that we want to predict\n",
    "#   3. reservation_status_date - since we have the other date part features captured for those start with arrival.....\n",
    "\n",
    "numericalFeatures = [\"lead_time\",\"arrival_date_week_number\",\"arrival_date_day_of_month\",\n",
    "                \"stays_in_weekend_nights\",\"stays_in_week_nights\",\"adults\",\"children\",\n",
    "                \"babies\",\"is_repeated_guest\", \"previous_cancellations\",\n",
    "                \"previous_bookings_not_canceled\",\"booking_changes\",\"agent\",\"company\",\"days_in_waiting_list\",\n",
    "                \"adr\",\"required_car_parking_spaces\",\"total_of_special_requests\"]\n",
    "\n",
    "categoricalFeatures = [\"arrival_date_month\",\"meal\",\"market_segment\",\n",
    "                \"distribution_channel\",\"reserved_room_type\",\"assigned_room_type\",\"deposit_type\",\"customer_type\"]\n",
    "\n",
    "# Split Features & Prediction Label\n",
    "rawFeatures = numericalFeatures + categoricalFeatures\n",
    "X = dfCity2017.drop([\"is_canceled\"], axis=1)[rawFeatures]\n",
    "y = dfCity2017[\"is_canceled\"]\n",
    "\n",
    "# One-hot encoding for numerical data\n",
    "X = pd.get_dummies(X)"
   ]
  },
  {
   "cell_type": "code",
   "execution_count": 26,
   "metadata": {},
   "outputs": [],
   "source": [
    "from sklearn.model_selection import train_test_split\n",
    "X_train, X_test, y_train, y_test = train_test_split(X, y, test_size=0.2, random_state=42)\n",
    "\n",
    "# Import the classifier from sklearn\n",
    "#from sklearn.tree import DecisionTreeClassifier\n",
    "from sklearn.ensemble import RandomForestClassifier\n",
    "\n",
    "# Train the Model\n",
    "#model = DecisionTreeClassifier()\n",
    "model = RandomForestClassifier()\n",
    "model.fit(X_train, y_train)\n",
    "\n",
    "# Making predictions\n",
    "y_train_pred = model.predict(X_train)\n",
    "y_test_pred = model.predict(X_test)\n"
   ]
  },
  {
   "cell_type": "markdown",
   "metadata": {},
   "source": [
    "# 2.3.3 Feature Importance Evaluation"
   ]
  },
  {
   "cell_type": "code",
   "execution_count": 27,
   "metadata": {
    "scrolled": true
   },
   "outputs": [
    {
     "name": "stdout",
     "output_type": "stream",
     "text": [
      "Feature ranking:\n",
      "feature: lead_time, importance: 0.161927793447434\n",
      "feature: adr, importance: 0.09440160148933822\n",
      "feature: deposit_type_No Deposit, importance: 0.08300757690820859\n",
      "feature: arrival_date_day_of_month, importance: 0.08216458907743528\n",
      "feature: total_of_special_requests, importance: 0.0714855728299964\n",
      "feature: arrival_date_week_number, importance: 0.05770094733802425\n",
      "feature: deposit_type_Non Refund, importance: 0.0551637831295069\n",
      "feature: stays_in_week_nights, importance: 0.0525263280925813\n",
      "feature: agent, importance: 0.04652715385313381\n",
      "feature: stays_in_weekend_nights, importance: 0.03384827637987326\n",
      "feature: booking_changes, importance: 0.02387459240849102\n",
      "feature: market_segment_Groups, importance: 0.01962527226342341\n",
      "feature: adults, importance: 0.018982179188072355\n",
      "feature: customer_type_Transient, importance: 0.018795834961057772\n",
      "feature: customer_type_Transient-Party, importance: 0.014963060155360535\n",
      "feature: market_segment_Online TA, importance: 0.013022191651405288\n",
      "feature: meal_BB, importance: 0.008404139352716444\n",
      "feature: distribution_channel_TA/TO, importance: 0.008365925288343113\n",
      "feature: children, importance: 0.007573447026621055\n",
      "feature: assigned_room_type_A, importance: 0.00749683304563429\n",
      "feature: required_car_parking_spaces, importance: 0.006677293216628461\n",
      "feature: market_segment_Offline TA/TO, importance: 0.006648392000979728\n",
      "feature: arrival_date_month_May, importance: 0.006502243214875025\n",
      "feature: arrival_date_month_July, importance: 0.006287808400366784\n",
      "feature: arrival_date_month_June, importance: 0.00626471095350922\n",
      "feature: meal_SC, importance: 0.005780375112384117\n",
      "feature: assigned_room_type_D, importance: 0.005742799531884517\n",
      "feature: arrival_date_month_April, importance: 0.005693552092122898\n",
      "feature: reserved_room_type_A, importance: 0.005669529456234429\n",
      "feature: distribution_channel_Direct, importance: 0.005601712876816632\n",
      "feature: arrival_date_month_March, importance: 0.005392354936161619\n",
      "feature: arrival_date_month_August, importance: 0.005387718020129653\n",
      "feature: meal_HB, importance: 0.0050993861093878825\n",
      "feature: market_segment_Direct, importance: 0.0048559088362442986\n",
      "feature: arrival_date_month_February, importance: 0.00458978283627004\n",
      "feature: reserved_room_type_D, importance: 0.004300167290878238\n",
      "feature: arrival_date_month_January, importance: 0.003788314532051721\n",
      "feature: company, importance: 0.0034286531650581957\n",
      "feature: assigned_room_type_B, importance: 0.0023403093427743042\n",
      "feature: assigned_room_type_E, importance: 0.002284796887347264\n",
      "feature: previous_bookings_not_canceled, importance: 0.002000706122711405\n",
      "feature: assigned_room_type_F, importance: 0.001926259332056932\n",
      "feature: reserved_room_type_E, importance: 0.0019184352326019906\n",
      "feature: reserved_room_type_F, importance: 0.0015818493658133204\n",
      "feature: is_repeated_guest, importance: 0.0013746408330913224\n",
      "feature: reserved_room_type_B, importance: 0.001206109698255117\n",
      "feature: assigned_room_type_G, importance: 0.0011760568466007224\n",
      "feature: distribution_channel_Corporate, importance: 0.0009007827458705475\n",
      "feature: reserved_room_type_G, importance: 0.0007972220180198293\n",
      "feature: previous_cancellations, importance: 0.0007149554331237747\n",
      "feature: market_segment_Corporate, importance: 0.0007070886602612821\n",
      "feature: babies, importance: 0.0006782063054300253\n",
      "feature: assigned_room_type_K, importance: 0.0005183876859583295\n",
      "feature: distribution_channel_GDS, importance: 0.00039393152886968056\n",
      "feature: market_segment_Aviation, importance: 0.00035184559694745717\n",
      "feature: assigned_room_type_C, importance: 0.0002780634522571834\n",
      "feature: market_segment_Complementary, importance: 0.00026231842362135993\n",
      "feature: customer_type_Group, importance: 0.0002270344445203411\n",
      "feature: customer_type_Contract, importance: 0.0002250371174835702\n",
      "feature: days_in_waiting_list, importance: 0.0001824043062857762\n",
      "feature: deposit_type_Refundable, importance: 0.00014972727774091628\n",
      "feature: assigned_room_type_P, importance: 0.00014066471405531006\n",
      "feature: reserved_room_type_P, importance: 9.494718379091185e-05\n",
      "feature: meal_FB, importance: 3.593236973485545e-07\n",
      "feature: reserved_room_type_C, importance: 5.965217320831974e-08\n"
     ]
    },
    {
     "data": {
      "image/png": "[encoded data removed]",
      "text/plain": [
       "<matplotlib.figure.Figure at 0x23d1fe5bf28>"
      ]
     },
     "metadata": {},
     "output_type": "display_data"
    }
   ],
   "source": [
    "featureImportances = model.feature_importances_\n",
    "std = np.std([tree.feature_importances_ for tree in model.estimators_],\n",
    "             axis=0)\n",
    "indices = np.argsort(featureImportances)[::-1]\n",
    "\n",
    "# Print the feature ranking\n",
    "print(\"Feature ranking:\")\n",
    "\n",
    "zipped = zip(X_train.columns, featureImportances)\n",
    "zipped = sorted(zipped, key = lambda t: t[1], reverse=True)\n",
    "    \n",
    "for feat, importance in zipped:\n",
    "    print('feature: {f}, importance: {i}'.format(f=feat, i=importance))\n",
    "    \n",
    "# Plot the impurity-based feature importances of the forest\n",
    "plt.figure(figsize=(20,7))\n",
    "plt.title(\"Feature importances\")\n",
    "plt.bar(range(X_train.shape[1]), featureImportances[indices],\n",
    "        color=\"r\", yerr=std[indices], align=\"center\")\n",
    "plt.xticks(range(X_train.shape[1]), indices)\n",
    "plt.xlim([-1, X_train.shape[1]])\n",
    "plt.show()"
   ]
  },
  {
   "cell_type": "markdown",
   "metadata": {},
   "source": [
    "# 2.3.4 Model Accuracy Precision & Recall"
   ]
  },
  {
   "cell_type": "code",
   "execution_count": 34,
   "metadata": {},
   "outputs": [
    {
     "name": "stdout",
     "output_type": "stream",
     "text": [
      "\n",
      "Model Scoring:\n",
      "The training accuracy is 0.992456602744706\n",
      "The test accuracy is 0.8356961105052708\n",
      "F1 Score:  0.8294614490507555\n",
      "Precision Score:  0.8381427497658138\n",
      "Recall:  0.8251900171541391\n",
      "\n",
      "Confusion Matrix:\n"
     ]
    },
    {
     "data": {
      "image/png": "[encoded data removed]",
      "text/plain": [
       "<matplotlib.figure.Figure at 0x23d1a11efd0>"
      ]
     },
     "metadata": {},
     "output_type": "display_data"
    }
   ],
   "source": [
    "# Calculate the accuracy\n",
    "from sklearn.metrics import accuracy_score\n",
    "train_accuracy = accuracy_score(y_train, y_train_pred)\n",
    "test_accuracy = accuracy_score(y_test, y_test_pred)\n",
    "print(\"\\nModel Scoring:\")\n",
    "print('The training accuracy is', train_accuracy)\n",
    "print('The test accuracy is', test_accuracy)\n",
    "\n",
    "from sklearn.metrics import confusion_matrix, f1_score, precision_score, recall_score\n",
    "print(\"F1 Score: \", f1_score(y_test, y_test_pred, average=\"macro\"))\n",
    "print(\"Precision Score: \", precision_score(y_test, y_test_pred, average=\"macro\"))\n",
    "print(\"Recall: \", recall_score(y_test, y_test_pred, average=\"macro\")) \n",
    "\n",
    "from sklearn.metrics import plot_confusion_matrix\n",
    "print(\"\\nConfusion Matrix:\")\n",
    "predictLabels = ['Not Cancelled', 'Cancelled']\n",
    "plot_confusion_matrix(model, X_test, y_test, cmap=plt.cm.Blues, display_labels=predictLabels) \n",
    "plt.show()\n"
   ]
  },
  {
   "cell_type": "markdown",
   "metadata": {},
   "source": [
    "# Analysis : Are we able to predict booking cancellation? (Targetted: City Hotel) \n",
    "1. Based on the City Hotel Year 2017 dataset, we used the RandomForestClassifier model to help predict whether a booking will be cancelled or not by any chance.\n",
    "2. The model seems to be able to predict 82% correctly based on the historical data whether the booking will be cancel or not.\n",
    "3. Below are the top 13 features with high impact on the booking cancellation possibility.\n",
    "    lead_time, deposit_type, adr, arrival_date_day_of_month, arrival_date_week_number, total_of_special_requests, \n",
    "    stays_in_week_nights, agent, stays_in_weekend_nights, market_segment_Groups, booking_changes, adults, \n",
    "    customer_type\n",
    "4. With the above, the hotel can use the information gained to help form a targetted plan to reduce the booking cancellation rate as well as improve the hotel business."
   ]
  },
  {
   "cell_type": "markdown",
   "metadata": {},
   "source": [
    "# Question 3. For those booking at risk for cancellation, what can the hotel do to mitigate the risk?"
   ]
  },
  {
   "cell_type": "markdown",
   "metadata": {},
   "source": [
    "# 3.1 - Let's analyze how is the data distribution for Top 6 Features when the booking is cancelled."
   ]
  },
  {
   "cell_type": "code",
   "execution_count": 108,
   "metadata": {},
   "outputs": [],
   "source": [
    "# Create a subset of data for cancellation data in 2017 for City Hotel\n",
    "dfCity2017Cancel = dfCity2017[(dfCity2017.is_canceled == 1)]"
   ]
  },
  {
   "cell_type": "code",
   "execution_count": 118,
   "metadata": {},
   "outputs": [
    {
     "data": {
      "text/plain": [
       "<matplotlib.axes._subplots.AxesSubplot at 0x22ad6099eb8>"
      ]
     },
     "execution_count": 118,
     "metadata": {},
     "output_type": "execute_result"
    },
    {
     "data": {
      "image/png": "[encoded data removed]",
      "text/plain": [
       "<matplotlib.figure.Figure at 0x22ad68ffa58>"
      ]
     },
     "metadata": {},
     "output_type": "display_data"
    }
   ],
   "source": [
    "#Feature #1 - Lead Time - Number of days that elapsed between the entering date of the booking into the PMS and the arrival date\n",
    "dfCity2017Cancel.groupby(['lead_time']).count()['hotel'].plot(kind='line', figsize=[30,7])"
   ]
  },
  {
   "cell_type": "code",
   "execution_count": 112,
   "metadata": {},
   "outputs": [
    {
     "data": {
      "text/plain": [
       "deposit_type\n",
       "No Deposit    7866\n",
       "Non Refund    3812\n",
       "Refundable      13\n",
       "Name: hotel, dtype: int64"
      ]
     },
     "execution_count": 112,
     "metadata": {},
     "output_type": "execute_result"
    },
    {
     "data": {
      "image/png": "[encoded data removed]",
      "text/plain": [
       "<matplotlib.figure.Figure at 0x22ad1c78198>"
      ]
     },
     "metadata": {},
     "output_type": "display_data"
    }
   ],
   "source": [
    "#Feature #2 - Deposit Type\n",
    "# - No Deposit – no deposit was made; \n",
    "# - Non Refund – a deposit was made in the value of the total stay cost; \n",
    "# - Refundable – a deposit was made with a value under the total cost of stay.\n",
    "dfCity2017Cancel.groupby(['deposit_type']).count()['hotel'].plot(kind='bar')\n",
    "dfCity2017Cancel.groupby(['deposit_type']).count()['hotel']"
   ]
  },
  {
   "cell_type": "code",
   "execution_count": 122,
   "metadata": {},
   "outputs": [],
   "source": [
    "#Feature #4 & #5 - Month & Week of arrival date.. we can analyze by Month only and skip the Week since Week is fall within the month. \n",
    "\n",
    "# We can refer to early same analysis done on 2.2.2"
   ]
  },
  {
   "cell_type": "code",
   "execution_count": 123,
   "metadata": {
    "scrolled": false
   },
   "outputs": [
    {
     "data": {
      "text/plain": [
       "total_of_special_requests\n",
       "0    8348\n",
       "1    2342\n",
       "2     849\n",
       "3     141\n",
       "4      10\n",
       "5       1\n",
       "Name: hotel, dtype: int64"
      ]
     },
     "execution_count": 123,
     "metadata": {},
     "output_type": "execute_result"
    },
    {
     "data": {
      "image/png": "[encoded data removed]",
      "text/plain": [
       "<matplotlib.figure.Figure at 0x22ad7f6c128>"
      ]
     },
     "metadata": {},
     "output_type": "display_data"
    }
   ],
   "source": [
    "#Feature #6 - Total of special requests - Number of special requests made by the customer (e.g. twin bed or high floor)\n",
    "dfCity2017Cancel.groupby(['total_of_special_requests']).count()['hotel'].plot(kind='bar')\n",
    "dfCity2017Cancel.groupby(['total_of_special_requests']).count()['hotel']\n"
   ]
  },
  {
   "cell_type": "markdown",
   "metadata": {},
   "source": [
    "# Analysis : For those booking at risk for cancellation, what can the hotel do to mitigate the risk?\n",
    "\n",
    "1. Based on the subset of importance featues that selected for analysis, there is high cancellation rate when lead time < 100 days, followed by 100-200 days range and it started to reduce after 200 days.\n",
    "2. For those bookings without Deposit, the cancellation rate is 2x of Non Refundale.\n",
    "3. Spring time (Mar-June) in Europe are the busiest month for City Hotel.  Those months also having ~40-50% cancellation rate.\n",
    "4. Majority of the cancellation requests have minimal to zero special requests.\n",
    "5. Based on the above analysis, it doesn't seems to give us a good comprehensive information yet to understand more solidly & collectively what else we can do to mitigate the booking cancelation risk effectively.  Hence, it is highly recommended to deep dive further to other features and more data sets to gain more insights.\n",
    "6. Being that said, below are a few recommendations to consider:\n",
    "    i. During the month of Mar-July, for those bookings with lead time < 100 days, \n",
    "        - can send greeting emails to the customers to remind them on the upcoming hotel stay \n",
    "        - by offering customers with certain level of loyalty tier a higher floor stay\n",
    "        - providing additional room rate discount if customers willing to switch to Deposit - Non Refundable option.\n",
    "\n",
    "    \n",
    "        \n"
   ]
  }
 ],
 "metadata": {
  "kernelspec": {
   "display_name": "Python 3",
   "language": "python",
   "name": "python3"
  },
  "language_info": {
   "codemirror_mode": {
    "name": "ipython",
    "version": 3
   },
   "file_extension": ".py",
   "mimetype": "text/x-python",
   "name": "python",
   "nbconvert_exporter": "python",
   "pygments_lexer": "ipython3",
   "version": "3.6.4"
  }
 },
 "nbformat": 4,
 "nbformat_minor": 2
}
